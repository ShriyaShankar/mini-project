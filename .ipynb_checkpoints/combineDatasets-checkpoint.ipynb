{
 "cells": [
  {
   "cell_type": "markdown",
   "metadata": {},
   "source": [
    "# Combine Datasets - Reap Benefit, Tweets Scraped, Kaggle"
   ]
  },
  {
   "cell_type": "code",
   "execution_count": 1,
   "metadata": {},
   "outputs": [],
   "source": [
    "import pandas as pd \n",
    "import numpy as np \n",
    "import os"
   ]
  },
  {
   "cell_type": "code",
   "execution_count": 2,
   "metadata": {},
   "outputs": [
    {
     "name": "stdout",
     "output_type": "stream",
     "text": [
      "d:\\PESU\\mini-project\\Datasets\n"
     ]
    }
   ],
   "source": [
    "path = os.path.join(os.getcwd(),\"Datasets\")\n",
    "print(path)"
   ]
  },
  {
   "cell_type": "code",
   "execution_count": 19,
   "metadata": {},
   "outputs": [
    {
     "name": "stdout",
     "output_type": "stream",
     "text": [
      "['BBMPData.csv', 'BBMPData1.csv', 'BWSSBData.csv', 'BWSSBData1.csv', 'cat_dataset.csv', 'noncivic.csv', 'potholeData.csv', 'SanitationData.csv', 'trafficData1.csv', 'trafficDataset.csv']\n"
     ]
    }
   ],
   "source": [
    "csvs = []\n",
    "for i in os.listdir(path):\n",
    "    if 'csv' in i:\n",
    "        csvs.append(i)\n",
    "\n",
    "print(csvs)"
   ]
  },
  {
   "cell_type": "code",
   "execution_count": 21,
   "metadata": {},
   "outputs": [
    {
     "name": "stdout",
     "output_type": "stream",
     "text": [
      "['BBMPData1.csv', 'BWSSBData1.csv', 'potholeData.csv', 'SanitationData.csv', 'trafficData1.csv']\n"
     ]
    }
   ],
   "source": [
    "for i in csvs:\n",
    "    if ('BBMP' in i or 'BWSSB' in i or 'traffic' in i) and '1' not in i:\n",
    "        csvs.remove(i)\n",
    "\n",
    "csvs.pop(2)\n",
    "csvs.pop(2)\n",
    "print(csvs)"
   ]
  },
  {
   "cell_type": "code",
   "execution_count": 22,
   "metadata": {},
   "outputs": [],
   "source": [
    "dfCat = pd.read_csv(\"Datasets/cat_dataset.csv\")"
   ]
  },
  {
   "cell_type": "code",
   "execution_count": 28,
   "metadata": {},
   "outputs": [
    {
     "data": {
      "text/plain": [
       "description    17318\n",
       "category       17318\n",
       "civic_issue    17318\n",
       "dtype: int64"
      ]
     },
     "execution_count": 28,
     "metadata": {},
     "output_type": "execute_result"
    }
   ],
   "source": [
    "def attach(csv_index,dfOld):\n",
    "    df = pd.read_csv(\"Datasets\\\\\" + csvs[csv_index])\n",
    "    df[\"civic_issue\"] = [1]*len(df)\n",
    "    df.count()\n",
    "    try:\n",
    "        df1 = df[[\"Tweet\",\"category\",\"civic_issue\"]]\n",
    "    except:\n",
    "        print(i)\n",
    "    df1 = df1.rename(columns={\"Tweet\":\"description\"})\n",
    "    dfCatNew = dfOld.append(df1)\n",
    "\n",
    "    return dfCatNew\n",
    "    #print(df1.head)\n",
    "\n",
    "df = dfCat\n",
    "for i in range(len(csvs)):\n",
    "    df = attach(i,df)\n",
    "\n",
    "df.count()"
   ]
  },
  {
   "cell_type": "code",
   "execution_count": 31,
   "metadata": {},
   "outputs": [
    {
     "data": {
      "text/plain": [
       "description    32318\n",
       "category       17318\n",
       "civic_issue    32318\n",
       "dtype: int64"
      ]
     },
     "execution_count": 31,
     "metadata": {},
     "output_type": "execute_result"
    }
   ],
   "source": [
    "nonCiv = pd.read_csv(\"Datasets/noncivic.csv\")\n",
    "nonCiv = nonCiv.rename(columns = {\"tweet\":\"description\"})\n",
    "df = df.append(nonCiv)\n",
    "df.count()"
   ]
  },
  {
   "cell_type": "code",
   "execution_count": 32,
   "metadata": {},
   "outputs": [],
   "source": [
    "filename = \"Datasets/finalData.csv\"\n",
    "df.to_csv(filename)"
   ]
  },
  {
   "cell_type": "code",
   "execution_count": null,
   "metadata": {},
   "outputs": [],
   "source": []
  }
 ],
 "metadata": {
  "kernelspec": {
   "display_name": "Python 3",
   "language": "python",
   "name": "python3"
  },
  "language_info": {
   "codemirror_mode": {
    "name": "ipython",
    "version": 3
   },
   "file_extension": ".py",
   "mimetype": "text/x-python",
   "name": "python",
   "nbconvert_exporter": "python",
   "pygments_lexer": "ipython3",
   "version": "3.8.2"
  }
 },
 "nbformat": 4,
 "nbformat_minor": 2
}
