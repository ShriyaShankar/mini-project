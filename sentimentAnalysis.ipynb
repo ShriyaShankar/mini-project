{
 "metadata": {
  "language_info": {
   "codemirror_mode": {
    "name": "ipython",
    "version": 3
   },
   "file_extension": ".py",
   "mimetype": "text/x-python",
   "name": "python",
   "nbconvert_exporter": "python",
   "pygments_lexer": "ipython3",
   "version": "3.7.6-final"
  },
  "orig_nbformat": 2,
  "kernelspec": {
   "name": "python3",
   "display_name": "Python 3"
  }
 },
 "nbformat": 4,
 "nbformat_minor": 2,
 "cells": [
  {
   "cell_type": "code",
   "execution_count": 1,
   "metadata": {},
   "outputs": [],
   "source": [
    "# !pip install textblob"
   ]
  },
  {
   "cell_type": "code",
   "execution_count": 4,
   "metadata": {},
   "outputs": [
    {
     "output_type": "stream",
     "name": "stdout",
     "text": [
      "Unnamed: 0     32120\nindex          32120\ndescription    32120\ncategory       17120\ncivic_issue    32120\ndtype: int64\n"
     ]
    }
   ],
   "source": [
    "from textblob import TextBlob\n",
    "import pandas as pd \n",
    "import numpy as np \n",
    "import matplotlib.pyplot as plt \n",
    "\n",
    "dataset = pd.read_csv(\"finalData.csv\")\n",
    "print(dataset.count())\n",
    "# dataset = dataset[['description']]"
   ]
  },
  {
   "cell_type": "code",
   "execution_count": 7,
   "metadata": {},
   "outputs": [],
   "source": [
    "def sentiment_analysis(dataset):\n",
    "    def getSubjectivity(text):\n",
    "        return TextBlob(text).sentiment.subjectivity\n",
    "# Create a function to get the polarity\n",
    "    def getPolarity(text):\n",
    "        return TextBlob(text).sentiment.polarity\n",
    "\n",
    "    def getAnalysis(score):\n",
    "        if score < 0.3:\n",
    "            return 'Complaint'\n",
    "        elif score > 0.3 and score < 0.4:\n",
    "            return 'Neutral Feedback'\n",
    "        else:\n",
    "            return 'Compliment'\n",
    "\n",
    "    dataset['Subjectivity'] =    dataset.description.apply(getSubjectivity)\n",
    "    dataset['Polarity'] = dataset.description.apply(getPolarity)\n",
    "    dataset['Sentiment'] = dataset['Polarity'].apply(getAnalysis )\n",
    "    return dataset\n",
    "\n",
    "df = sentiment_analysis(dataset)\n",
    "#  if score < 0:\n",
    "#   return ‘Negative’\n",
    "#  elif score == 0:\n",
    "#   return ‘Neutral’\n",
    "#  else:\n",
    "#   return ‘Positive’"
   ]
  },
  {
   "cell_type": "code",
   "execution_count": 8,
   "metadata": {},
   "outputs": [
    {
     "output_type": "execute_result",
     "data": {
      "text/plain": [
       "   Unnamed: 0  index  ...  Polarity  Sentiment\n",
       "0           0      1  ... -0.400000  Complaint\n",
       "1           1      2  ...  0.000000  Complaint\n",
       "2           2      3  ...  0.000000  Complaint\n",
       "3           3      4  ...  0.100000  Complaint\n",
       "4           4      5  ... -0.050000  Complaint\n",
       "5           5      6  ... -0.250000  Complaint\n",
       "6           6      7  ... -0.233333  Complaint\n",
       "7           7      8  ...  0.150000  Complaint\n",
       "8           8      9  ... -0.125000  Complaint\n",
       "9           9     10  ... -0.162500  Complaint\n",
       "\n",
       "[10 rows x 8 columns]"
      ],
      "text/html": "<div>\n<style scoped>\n    .dataframe tbody tr th:only-of-type {\n        vertical-align: middle;\n    }\n\n    .dataframe tbody tr th {\n        vertical-align: top;\n    }\n\n    .dataframe thead th {\n        text-align: right;\n    }\n</style>\n<table border=\"1\" class=\"dataframe\">\n  <thead>\n    <tr style=\"text-align: right;\">\n      <th></th>\n      <th>Unnamed: 0</th>\n      <th>index</th>\n      <th>description</th>\n      <th>category</th>\n      <th>civic_issue</th>\n      <th>Subjectivity</th>\n      <th>Polarity</th>\n      <th>Sentiment</th>\n    </tr>\n  </thead>\n  <tbody>\n    <tr>\n      <th>0</th>\n      <td>0</td>\n      <td>1</td>\n      <td>Garbage behind the temple</td>\n      <td>Waste/Garbage</td>\n      <td>1</td>\n      <td>0.700000</td>\n      <td>-0.400000</td>\n      <td>Complaint</td>\n    </tr>\n    <tr>\n      <th>1</th>\n      <td>1</td>\n      <td>2</td>\n      <td>Air pollution</td>\n      <td>Air</td>\n      <td>1</td>\n      <td>0.000000</td>\n      <td>0.000000</td>\n      <td>Complaint</td>\n    </tr>\n    <tr>\n      <th>2</th>\n      <td>2</td>\n      <td>3</td>\n      <td>Air pollution in hebbal</td>\n      <td>Air</td>\n      <td>1</td>\n      <td>0.000000</td>\n      <td>0.000000</td>\n      <td>Complaint</td>\n    </tr>\n    <tr>\n      <th>3</th>\n      <td>3</td>\n      <td>4</td>\n      <td>Garbage is dumped near BES</td>\n      <td>Waste/Garbage</td>\n      <td>1</td>\n      <td>0.400000</td>\n      <td>0.100000</td>\n      <td>Complaint</td>\n    </tr>\n    <tr>\n      <th>4</th>\n      <td>4</td>\n      <td>5</td>\n      <td>Leaf and garbage burning on Shakthi Ganapathi ...</td>\n      <td>Air</td>\n      <td>1</td>\n      <td>0.100000</td>\n      <td>-0.050000</td>\n      <td>Complaint</td>\n    </tr>\n    <tr>\n      <th>5</th>\n      <td>5</td>\n      <td>6</td>\n      <td>There is a lot of garbage dump in and around t...</td>\n      <td>Waste/Garbage</td>\n      <td>1</td>\n      <td>0.400000</td>\n      <td>-0.250000</td>\n      <td>Complaint</td>\n    </tr>\n    <tr>\n      <th>6</th>\n      <td>6</td>\n      <td>7</td>\n      <td>Replace broken streetlight. Complaint #5 about...</td>\n      <td>Streetlights</td>\n      <td>1</td>\n      <td>0.241667</td>\n      <td>-0.233333</td>\n      <td>Complaint</td>\n    </tr>\n    <tr>\n      <th>7</th>\n      <td>7</td>\n      <td>8</td>\n      <td>Red Matiz parked on the footpath for more than...</td>\n      <td>Traffic/Parking</td>\n      <td>1</td>\n      <td>0.200000</td>\n      <td>0.150000</td>\n      <td>Complaint</td>\n    </tr>\n    <tr>\n      <th>8</th>\n      <td>8</td>\n      <td>9</td>\n      <td>Cars have been using the footpath as a parking...</td>\n      <td>Traffic/Parking</td>\n      <td>1</td>\n      <td>0.350000</td>\n      <td>-0.125000</td>\n      <td>Complaint</td>\n    </tr>\n    <tr>\n      <th>9</th>\n      <td>9</td>\n      <td>10</td>\n      <td>Congestion everyday and at all times due to im...</td>\n      <td>Traffic/Parking</td>\n      <td>1</td>\n      <td>0.487500</td>\n      <td>-0.162500</td>\n      <td>Complaint</td>\n    </tr>\n  </tbody>\n</table>\n</div>"
     },
     "metadata": {},
     "execution_count": 8
    }
   ],
   "source": [
    "df.head(10)"
   ]
  },
  {
   "cell_type": "code",
   "execution_count": null,
   "metadata": {},
   "outputs": [],
   "source": []
  }
 ]
}