{
 "metadata": {
  "language_info": {
   "codemirror_mode": {
    "name": "ipython",
    "version": 3
   },
   "file_extension": ".py",
   "mimetype": "text/x-python",
   "name": "python",
   "nbconvert_exporter": "python",
   "pygments_lexer": "ipython3",
   "version": "3.7.6-final"
  },
  "orig_nbformat": 2,
  "kernelspec": {
   "name": "python_defaultSpec_1599236318882",
   "display_name": "Python 3.7.6 64-bit ('base': conda)"
  }
 },
 "nbformat": 4,
 "nbformat_minor": 2,
 "cells": [
  {
   "cell_type": "markdown",
   "metadata": {},
   "source": [
    "# Data Collection - Scraping Tweets"
   ]
  },
  {
   "cell_type": "markdown",
   "metadata": {},
   "source": [
    "## Category: Waste/Garbage"
   ]
  },
  {
   "cell_type": "code",
   "execution_count": 1,
   "metadata": {},
   "outputs": [],
   "source": [
    "import GetOldTweets3 as got\n",
    "import pandas as pd \n",
    "import numpy as np\n",
    "import os"
   ]
  },
  {
   "cell_type": "code",
   "execution_count": 57,
   "metadata": {},
   "outputs": [],
   "source": [
    "text_queries = \"'BBMP' AND 'Garbage'\"# OR Garbage OR Waste OR Trash OR Black Spot\"\n",
    "max_tweets = 1000\n",
    "start_date = \"2014-01-01\"\n",
    "end_date = \"2020-09-01\"\n",
    "location = \"Bengaluru\"\n"
   ]
  },
  {
   "cell_type": "code",
   "execution_count": 58,
   "metadata": {},
   "outputs": [],
   "source": [
    "tweetCriteria = got.manager.TweetCriteria().setQuerySearch(text_queries).setSince(start_date).\\\n",
    "                setUntil(end_date).setMaxTweets(max_tweets)"
   ]
  },
  {
   "cell_type": "code",
   "execution_count": 59,
   "metadata": {},
   "outputs": [],
   "source": [
    "tweets = got.manager.TweetManager.getTweets(tweetCriteria)"
   ]
  },
  {
   "cell_type": "code",
   "execution_count": 60,
   "metadata": {
    "tags": []
   },
   "outputs": [],
   "source": [
    "extracted_tweet = [[tweet.text,tweet.date,tweet.username,tweet.hashtags] for tweet in tweets]\n",
    "df = pd.DataFrame(extracted_tweet,columns=[\"Tweet\",\"Date\",\"Username\",\"Hashtags\"])"
   ]
  },
  {
   "cell_type": "code",
   "execution_count": 61,
   "metadata": {},
   "outputs": [
    {
     "output_type": "execute_result",
     "data": {
      "text/plain": "                                                Tweet  \\\n0   @BBMP_MAYOR pls look into it n get it cleaned ...   \n1   The future is now. Get ready for #GalaxyZFold2...   \n2   Thank you Sir! Can you also please add Garbage...   \n3   BBMP personnel undertake cleaning of burial gr...   \n4   @BBMPCOMM @BBMP_MAYOR @BSYBJP @BNMREDDY The Ma...   \n5   @MoHUA_India @BBMPCOMM @BBMP_MAYOR @BBMPSWMSpl...   \n6   @blrcitytraffic Respected officers, Car in the...   \n7   Day 1- @BBMPCOMM @BBMP_MAYOR @BBMPSWMSplComm @...   \n8   @BBMPCOMM @BBMP_MAYOR @CMofKarnataka #You rais...   \n9   Instead of cleaning up this waste, it is burnt...   \n10  #SwachhSurvekshan2020 #SwachhBharat @BBMPSWMJt...   \n11  Despite complaining to health inspectors for a...   \n12  BBMP SWM officials &amp; Marshals ensure PK’s ...   \n13  Don’t forget Bommanahalli-Begur congested road...   \n14  @BBMPCOMM @CMofKarnataka It looks govt/bbmp ha...   \n15  Once in a week wet waste garbage collection in...   \n16  What will public do if bbmp don't collect garb...   \n17  Our officials & Marshals have inspected the sp...   \n18  #BBMP Pourakarmikas under the supervision of W...   \n19  #BBMP Pourakarmikas under the supervision of W...   \n\n                        Date         Username  \\\n0  2020-08-31 18:36:52+00:00    MehrotraAnmol   \n1  2020-09-01 15:45:00+00:00     SamsungIndia   \n2  2020-08-31 14:18:27+00:00          u103443   \n3  2020-08-31 11:27:11+00:00   BBMPSWMSplComm   \n4  2020-08-31 11:04:47+00:00       GF22824749   \n5  2020-08-31 09:43:21+00:00     spiti_valley   \n6  2020-08-31 08:57:49+00:00    RPTHESUNSHINE   \n7  2020-08-31 07:53:39+00:00       mithunmj99   \n8  2020-08-31 07:18:53+00:00     sujathakshay   \n9  2020-08-30 10:45:29+00:00       praveenah2   \n10 2020-08-30 10:45:16+00:00       praveenah2   \n11 2020-08-30 07:19:58+00:00     ghanshyam_in   \n12 2020-08-30 06:48:18+00:00   BBMPSWMSplComm   \n13 2020-08-30 05:00:44+00:00     choudapurkar   \n14 2020-08-29 13:02:44+00:00   ashabangalore5   \n15 2020-08-29 11:19:34+00:00           nipung   \n16 2020-08-29 11:18:51+00:00           nipung   \n17 2020-08-29 09:08:53+00:00   BBMPSWMSplComm   \n18 2020-08-29 07:46:04+00:00  iamgouthamkumar   \n19 2020-08-29 07:40:44+00:00       BBMP_MAYOR   \n\n                                             Hashtags  \n0                                                      \n1                              #GalaxyZFold2 #Samsung  \n2                                                      \n3                                                      \n4                                                      \n5                                                      \n6                                               #BBMP  \n7                                               #BBMP  \n8   #You #compliant #staff #escalation #irrelevant...  \n9                                                      \n10                #SwachhSurvekshan2020 #SwachhBharat  \n11                           #ward26 #ramamurthynagar  \n12                                   #BBMP #Bengaluru  \n13                                                     \n14                                                     \n15                                                     \n16                                                     \n17                                                     \n18                                              #BBMP  \n19                                              #BBMP  ",
      "text/html": "<div>\n<style scoped>\n    .dataframe tbody tr th:only-of-type {\n        vertical-align: middle;\n    }\n\n    .dataframe tbody tr th {\n        vertical-align: top;\n    }\n\n    .dataframe thead th {\n        text-align: right;\n    }\n</style>\n<table border=\"1\" class=\"dataframe\">\n  <thead>\n    <tr style=\"text-align: right;\">\n      <th></th>\n      <th>Tweet</th>\n      <th>Date</th>\n      <th>Username</th>\n      <th>Hashtags</th>\n    </tr>\n  </thead>\n  <tbody>\n    <tr>\n      <th>0</th>\n      <td>@BBMP_MAYOR pls look into it n get it cleaned ...</td>\n      <td>2020-08-31 18:36:52+00:00</td>\n      <td>MehrotraAnmol</td>\n      <td></td>\n    </tr>\n    <tr>\n      <th>1</th>\n      <td>The future is now. Get ready for #GalaxyZFold2...</td>\n      <td>2020-09-01 15:45:00+00:00</td>\n      <td>SamsungIndia</td>\n      <td>#GalaxyZFold2 #Samsung</td>\n    </tr>\n    <tr>\n      <th>2</th>\n      <td>Thank you Sir! Can you also please add Garbage...</td>\n      <td>2020-08-31 14:18:27+00:00</td>\n      <td>u103443</td>\n      <td></td>\n    </tr>\n    <tr>\n      <th>3</th>\n      <td>BBMP personnel undertake cleaning of burial gr...</td>\n      <td>2020-08-31 11:27:11+00:00</td>\n      <td>BBMPSWMSplComm</td>\n      <td></td>\n    </tr>\n    <tr>\n      <th>4</th>\n      <td>@BBMPCOMM @BBMP_MAYOR @BSYBJP @BNMREDDY The Ma...</td>\n      <td>2020-08-31 11:04:47+00:00</td>\n      <td>GF22824749</td>\n      <td></td>\n    </tr>\n    <tr>\n      <th>5</th>\n      <td>@MoHUA_India @BBMPCOMM @BBMP_MAYOR @BBMPSWMSpl...</td>\n      <td>2020-08-31 09:43:21+00:00</td>\n      <td>spiti_valley</td>\n      <td></td>\n    </tr>\n    <tr>\n      <th>6</th>\n      <td>@blrcitytraffic Respected officers, Car in the...</td>\n      <td>2020-08-31 08:57:49+00:00</td>\n      <td>RPTHESUNSHINE</td>\n      <td>#BBMP</td>\n    </tr>\n    <tr>\n      <th>7</th>\n      <td>Day 1- @BBMPCOMM @BBMP_MAYOR @BBMPSWMSplComm @...</td>\n      <td>2020-08-31 07:53:39+00:00</td>\n      <td>mithunmj99</td>\n      <td>#BBMP</td>\n    </tr>\n    <tr>\n      <th>8</th>\n      <td>@BBMPCOMM @BBMP_MAYOR @CMofKarnataka #You rais...</td>\n      <td>2020-08-31 07:18:53+00:00</td>\n      <td>sujathakshay</td>\n      <td>#You #compliant #staff #escalation #irrelevant...</td>\n    </tr>\n    <tr>\n      <th>9</th>\n      <td>Instead of cleaning up this waste, it is burnt...</td>\n      <td>2020-08-30 10:45:29+00:00</td>\n      <td>praveenah2</td>\n      <td></td>\n    </tr>\n    <tr>\n      <th>10</th>\n      <td>#SwachhSurvekshan2020 #SwachhBharat @BBMPSWMJt...</td>\n      <td>2020-08-30 10:45:16+00:00</td>\n      <td>praveenah2</td>\n      <td>#SwachhSurvekshan2020 #SwachhBharat</td>\n    </tr>\n    <tr>\n      <th>11</th>\n      <td>Despite complaining to health inspectors for a...</td>\n      <td>2020-08-30 07:19:58+00:00</td>\n      <td>ghanshyam_in</td>\n      <td>#ward26 #ramamurthynagar</td>\n    </tr>\n    <tr>\n      <th>12</th>\n      <td>BBMP SWM officials &amp;amp; Marshals ensure PK’s ...</td>\n      <td>2020-08-30 06:48:18+00:00</td>\n      <td>BBMPSWMSplComm</td>\n      <td>#BBMP #Bengaluru</td>\n    </tr>\n    <tr>\n      <th>13</th>\n      <td>Don’t forget Bommanahalli-Begur congested road...</td>\n      <td>2020-08-30 05:00:44+00:00</td>\n      <td>choudapurkar</td>\n      <td></td>\n    </tr>\n    <tr>\n      <th>14</th>\n      <td>@BBMPCOMM @CMofKarnataka It looks govt/bbmp ha...</td>\n      <td>2020-08-29 13:02:44+00:00</td>\n      <td>ashabangalore5</td>\n      <td></td>\n    </tr>\n    <tr>\n      <th>15</th>\n      <td>Once in a week wet waste garbage collection in...</td>\n      <td>2020-08-29 11:19:34+00:00</td>\n      <td>nipung</td>\n      <td></td>\n    </tr>\n    <tr>\n      <th>16</th>\n      <td>What will public do if bbmp don't collect garb...</td>\n      <td>2020-08-29 11:18:51+00:00</td>\n      <td>nipung</td>\n      <td></td>\n    </tr>\n    <tr>\n      <th>17</th>\n      <td>Our officials &amp; Marshals have inspected the sp...</td>\n      <td>2020-08-29 09:08:53+00:00</td>\n      <td>BBMPSWMSplComm</td>\n      <td></td>\n    </tr>\n    <tr>\n      <th>18</th>\n      <td>#BBMP Pourakarmikas under the supervision of W...</td>\n      <td>2020-08-29 07:46:04+00:00</td>\n      <td>iamgouthamkumar</td>\n      <td>#BBMP</td>\n    </tr>\n    <tr>\n      <th>19</th>\n      <td>#BBMP Pourakarmikas under the supervision of W...</td>\n      <td>2020-08-29 07:40:44+00:00</td>\n      <td>BBMP_MAYOR</td>\n      <td>#BBMP</td>\n    </tr>\n  </tbody>\n</table>\n</div>"
     },
     "metadata": {},
     "execution_count": 61
    }
   ],
   "source": [
    "df.head(20)\n",
    "#df.count()"
   ]
  },
  {
   "cell_type": "code",
   "execution_count": 62,
   "metadata": {},
   "outputs": [
    {
     "output_type": "execute_result",
     "data": {
      "text/plain": "1000"
     },
     "metadata": {},
     "execution_count": 62
    }
   ],
   "source": [
    "len(df)"
   ]
  },
  {
   "cell_type": "code",
   "execution_count": 63,
   "metadata": {},
   "outputs": [],
   "source": [
    "df.to_csv(\"BBMPData.csv\")"
   ]
  },
  {
   "cell_type": "code",
   "execution_count": null,
   "metadata": {},
   "outputs": [],
   "source": []
  }
 ]
}