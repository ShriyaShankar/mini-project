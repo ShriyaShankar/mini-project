{
 "cells": [
  {
   "cell_type": "code",
   "execution_count": 3,
   "metadata": {},
   "outputs": [],
   "source": [
    "#import GetOldTweets3 as got\n",
    "import pandas as pd\n",
    "import numpy as np\n",
    "import os"
   ]
  },
  {
   "cell_type": "code",
   "execution_count": 11,
   "metadata": {},
   "outputs": [],
   "source": [
    "def addCategory(filename: str, category: str, number_of_rows: int):\n",
    "    df = pd.read_csv(filename)\n",
    "    csv_input = pd.read_csv(filename)\n",
    "    l = []\n",
    "    for i in range (0, number_of_rows):\n",
    "        l.append(category)\n",
    "        i += 1\n",
    "    #print(l)\n",
    "    csv_input['Category'] = l\n",
    "    csv_input.to_csv(filename, index=False) "
   ]
  },
  {
   "cell_type": "code",
   "execution_count": 18,
   "metadata": {},
   "outputs": [],
   "source": [
    "addCategory('Datasets/SanitationData.csv', 'Sanitation', 500)\n",
    "addCategory('Datasets/BWSSBData.csv', 'Water', 2000)\n",
    "addCategory('Datasets/potholeData.csv', 'Pothole', 100)\n",
    "addCategory('Datasets/trafficDataset.csv', 'Traffic', 1000)\n",
    "addCategory('Datasets/BBMPData.csv', 'Garbage', 3000)"
   ]
  },
  {
   "cell_type": "code",
   "execution_count": null,
   "metadata": {},
   "outputs": [],
   "source": []
  },
  {
   "cell_type": "code",
   "execution_count": 11,
   "metadata": {},
   "outputs": [],
   "source": []
  },
  {
   "cell_type": "code",
   "execution_count": 14,
   "metadata": {},
   "outputs": [],
   "source": []
  },
  {
   "cell_type": "code",
   "execution_count": null,
   "metadata": {},
   "outputs": [],
   "source": []
  }
 ],
 "metadata": {
  "kernelspec": {
   "display_name": "Python 3",
   "language": "python",
   "name": "python3"
  },
  "language_info": {
   "codemirror_mode": {
    "name": "ipython",
    "version": 3
   },
   "file_extension": ".py",
   "mimetype": "text/x-python",
   "name": "python",
   "nbconvert_exporter": "python",
   "pygments_lexer": "ipython3",
   "version": "3.8.2"
  }
 },
 "nbformat": 4,
 "nbformat_minor": 4
}
