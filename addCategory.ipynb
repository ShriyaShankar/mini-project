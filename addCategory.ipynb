{
 "cells": [
  {
   "cell_type": "code",
   "execution_count": 2,
   "metadata": {},
   "outputs": [],
   "source": [
    "#import GetOldTweets3 as got\n",
    "import pandas as pd\n",
    "import numpy as np\n",
    "import os"
   ]
  },
  {
   "cell_type": "code",
   "execution_count": 3,
   "metadata": {},
   "outputs": [],
   "source": [
    "df = pd.read_csv(\"Datasets/potholeData.csv\")"
   ]
  },
  {
   "cell_type": "code",
   "execution_count": 4,
   "metadata": {},
   "outputs": [],
   "source": [
    "csv_input = pd.read_csv('Datasets/potholeData.csv')\n",
    "l = []\n",
    "for i in range (0, 100):\n",
    "    l.append(\"Pothole\")\n",
    "    i += 1\n",
    "#print(l)\n",
    "csv_input['Category'] = l\n",
    "csv_input.to_csv('Datasets/potholeData.csv', index=False)   #this writes back to your file\n"
   ]
  },
  {
   "cell_type": "code",
   "execution_count": 5,
   "metadata": {},
   "outputs": [
    {
     "output_type": "stream",
     "name": "stderr",
     "text": [
      "[nltk_data] Downloading package stopwords to C:\\Users\\Adithi\n[nltk_data]     Satish\\AppData\\Roaming\\nltk_data...\n[nltk_data]   Package stopwords is already up-to-date!\n"
     ]
    },
    {
     "output_type": "execute_result",
     "data": {
      "text/plain": [
       "True"
      ]
     },
     "metadata": {},
     "execution_count": 5
    }
   ],
   "source": [
    "import nltk\n",
    "\n",
    "nltk.download(\"stopwords\")"
   ]
  },
  {
   "cell_type": "code",
   "execution_count": 6,
   "metadata": {},
   "outputs": [],
   "source": [
    "from nltk.corpus import stopwords\n",
    "from nltk.stem import PorterStemmer\n",
    "import re\n",
    "from sklearn.model_selection import train_test_split\n",
    "from sklearn.feature_extraction.text import TfidfVectorizer\n",
    "from sklearn import metrics\n",
    "from sklearn.svm import SVC\n",
    "import pickle\n",
    "\n",
    "dfcat = pd.read_csv(\"Datasets/cat_dataset.csv\")\n",
    "\n",
    "def preprocess(df,col):\n",
    "    stemmer = PorterStemmer()\n",
    "    words = stopwords.words(\"english\")\n",
    "\n",
    "    #the preprocessing is done in 4 steps:\n",
    "\n",
    "    #removing punctuation\n",
    "    #removing stopwords like 'the', 'this','as',etc\n",
    "    #conversion of the entire text to lower case\n",
    "    #Stemming: reducing the number of inflectional forms of words by reducing all to their common stem.\n",
    "    #For example, 'argue','arguing','argued' are all reduced to 'argu'\n",
    "    df[col] = df[col].apply(lambda x: \" \".join([stemmer.stem(i) for i in re.sub(\"[^a-zA-Z]\", \" \", x).split() if i not in words]).lower())\n",
    "\n",
    "    return df\n",
    "\n",
    "def train_SVC(train_tfIdf, y_train):\n",
    "    #building text classification model using Linear Kernel SVC Classifier (has highest accuracy)\n",
    "    classifier = SVC(kernel='linear') #accuracy obtained for linear kernel = 83.28%\n",
    "    classifier.fit(train_tfIdf, y_train) #fitting the classifier onto the training data\n",
    "    filename = \"linearkernelSVC.sav\"\n",
    "    pickle.dump(classifier,open(filename,\"wb\"))"
   ]
  },
  {
   "cell_type": "code",
   "execution_count": 7,
   "metadata": {
    "tags": []
   },
   "outputs": [],
   "source": [
    "def addCat(df, csv):\n",
    "    desc = list(dfcat[\"description\"]) + list(df.Tweet)\n",
    "    categories = list(dfcat[\"category\"]) + [''] * len(df.Tweet)\n",
    "\n",
    "    complaints = pd.DataFrame()\n",
    "    complaints[\"description\"] = desc\n",
    "    complaints[\"category\"] = categories\n",
    "    complaints.head(10)\n",
    "\n",
    "    complaints = preprocess(complaints,\"description\")\n",
    "    trainX = complaints.description[:10723]\n",
    "    trainY = complaints.category[:10723]\n",
    "    testX = complaints.description[10723:]\n",
    "\n",
    "    vectorizer_tfidf = TfidfVectorizer(stop_words='english', max_df=0.7) #initializing the vector\n",
    "    train_tfIdf = vectorizer_tfidf.fit_transform(trainX.values.astype('U')) #astype('U') converts the dataframe into a Unicode array\n",
    "    test_tfIdf = vectorizer_tfidf.transform(testX.values.astype('U'))#transforming the text into frequency vectors\n",
    "\n",
    "    train_SVC(train_tfIdf,trainY)\n",
    "    classifier = pickle.load(open(\"linearkernelSVC.sav\",\"rb\"))\n",
    "    pred = classifier.predict(test_tfIdf) #predictions made on the unseen data\n",
    "\n",
    "    df[\"category\"] = pred\n",
    "    df.head(10)\n",
    "    df.to_csv(\"Datasets/\" + csv)\n",
    "\n",
    "#addCat(dfbbmp,\"BBMPData1.csv\")"
   ]
  },
  {
   "source": [
    "## Adding categories for BBMP Data"
   ],
   "cell_type": "markdown",
   "metadata": {}
  },
  {
   "cell_type": "code",
   "execution_count": 8,
   "metadata": {},
   "outputs": [
    {
     "output_type": "execute_result",
     "data": {
      "text/plain": [
       "      Unnamed: 0                                              Tweet  \\\n",
       "0              0  @BBMP_MAYOR @BBMPCOMM Sarjapur road from Decat...   \n",
       "1              1  The future is now. Get ready for #GalaxyZFold2...   \n",
       "2              2  Not only this, the burning of garbage and wast...   \n",
       "3              3  @Tejasvi_Surya @CMofKarnataka @narendramodi Mr...   \n",
       "4              4  But residents are equally responsible here. Re...   \n",
       "...          ...                                                ...   \n",
       "2995        2995  This is a fairly populated area and there are ...   \n",
       "2996        2996  The pictures that I posted are of Gottigere-Ke...   \n",
       "2997        2997  Who will be responsible for this? #BBMP Next t...   \n",
       "2998        2998  Am glad Shivani you replied This is ward no 19...   \n",
       "2999        2999  @BBMPCOMM @BBMP_MAYOR thanks for concerning ab...   \n",
       "\n",
       "                           Date         Username                Hashtags  \n",
       "0     2020-01-31 17:16:38+00:00   shroff_bhavesh                     NaN  \n",
       "1     2020-09-01 15:45:00+00:00     SamsungIndia  #GalaxyZFold2 #Samsung  \n",
       "2     2020-01-31 17:12:40+00:00    Sudhindrakul1                     NaN  \n",
       "3     2020-01-31 17:11:38+00:00   shroff_bhavesh                     NaN  \n",
       "4     2020-01-31 13:23:51+00:00   Maheshkumar891                     NaN  \n",
       "...                         ...              ...                     ...  \n",
       "2995  2019-08-17 13:36:38+00:00       divya_2377                     NaN  \n",
       "2996  2019-08-17 13:31:38+00:00       divya_2377                     NaN  \n",
       "2997  2019-08-17 13:30:43+00:00  be1cf20811c44cd                   #BBMP  \n",
       "2998  2019-08-17 13:23:50+00:00       divya_2377                     NaN  \n",
       "2999  2019-08-17 13:18:39+00:00       Truly_Raja               #belathur  \n",
       "\n",
       "[3000 rows x 5 columns]"
      ],
      "text/html": "<div>\n<style scoped>\n    .dataframe tbody tr th:only-of-type {\n        vertical-align: middle;\n    }\n\n    .dataframe tbody tr th {\n        vertical-align: top;\n    }\n\n    .dataframe thead th {\n        text-align: right;\n    }\n</style>\n<table border=\"1\" class=\"dataframe\">\n  <thead>\n    <tr style=\"text-align: right;\">\n      <th></th>\n      <th>Unnamed: 0</th>\n      <th>Tweet</th>\n      <th>Date</th>\n      <th>Username</th>\n      <th>Hashtags</th>\n    </tr>\n  </thead>\n  <tbody>\n    <tr>\n      <th>0</th>\n      <td>0</td>\n      <td>@BBMP_MAYOR @BBMPCOMM Sarjapur road from Decat...</td>\n      <td>2020-01-31 17:16:38+00:00</td>\n      <td>shroff_bhavesh</td>\n      <td>NaN</td>\n    </tr>\n    <tr>\n      <th>1</th>\n      <td>1</td>\n      <td>The future is now. Get ready for #GalaxyZFold2...</td>\n      <td>2020-09-01 15:45:00+00:00</td>\n      <td>SamsungIndia</td>\n      <td>#GalaxyZFold2 #Samsung</td>\n    </tr>\n    <tr>\n      <th>2</th>\n      <td>2</td>\n      <td>Not only this, the burning of garbage and wast...</td>\n      <td>2020-01-31 17:12:40+00:00</td>\n      <td>Sudhindrakul1</td>\n      <td>NaN</td>\n    </tr>\n    <tr>\n      <th>3</th>\n      <td>3</td>\n      <td>@Tejasvi_Surya @CMofKarnataka @narendramodi Mr...</td>\n      <td>2020-01-31 17:11:38+00:00</td>\n      <td>shroff_bhavesh</td>\n      <td>NaN</td>\n    </tr>\n    <tr>\n      <th>4</th>\n      <td>4</td>\n      <td>But residents are equally responsible here. Re...</td>\n      <td>2020-01-31 13:23:51+00:00</td>\n      <td>Maheshkumar891</td>\n      <td>NaN</td>\n    </tr>\n    <tr>\n      <th>...</th>\n      <td>...</td>\n      <td>...</td>\n      <td>...</td>\n      <td>...</td>\n      <td>...</td>\n    </tr>\n    <tr>\n      <th>2995</th>\n      <td>2995</td>\n      <td>This is a fairly populated area and there are ...</td>\n      <td>2019-08-17 13:36:38+00:00</td>\n      <td>divya_2377</td>\n      <td>NaN</td>\n    </tr>\n    <tr>\n      <th>2996</th>\n      <td>2996</td>\n      <td>The pictures that I posted are of Gottigere-Ke...</td>\n      <td>2019-08-17 13:31:38+00:00</td>\n      <td>divya_2377</td>\n      <td>NaN</td>\n    </tr>\n    <tr>\n      <th>2997</th>\n      <td>2997</td>\n      <td>Who will be responsible for this? #BBMP Next t...</td>\n      <td>2019-08-17 13:30:43+00:00</td>\n      <td>be1cf20811c44cd</td>\n      <td>#BBMP</td>\n    </tr>\n    <tr>\n      <th>2998</th>\n      <td>2998</td>\n      <td>Am glad Shivani you replied This is ward no 19...</td>\n      <td>2019-08-17 13:23:50+00:00</td>\n      <td>divya_2377</td>\n      <td>NaN</td>\n    </tr>\n    <tr>\n      <th>2999</th>\n      <td>2999</td>\n      <td>@BBMPCOMM @BBMP_MAYOR thanks for concerning ab...</td>\n      <td>2019-08-17 13:18:39+00:00</td>\n      <td>Truly_Raja</td>\n      <td>#belathur</td>\n    </tr>\n  </tbody>\n</table>\n<p>3000 rows × 5 columns</p>\n</div>"
     },
     "metadata": {},
     "execution_count": 8
    }
   ],
   "source": [
    "dfbbmp = pd.read_csv(\"Datasets/BBMPData.csv\")\n",
    "dfbbmp"
   ]
  },
  {
   "source": [
    "## Adding Categories for BWSSB"
   ],
   "cell_type": "markdown",
   "metadata": {}
  },
  {
   "cell_type": "code",
   "execution_count": 14,
   "metadata": {},
   "outputs": [
    {
     "output_type": "execute_result",
     "data": {
      "text/plain": [
       "      Unnamed: 0                                              Tweet  \\\n",
       "0              0  You can't clean Bangalore as there's no proper...   \n",
       "1              1  The future is now. Get ready for #GalaxyZFold2...   \n",
       "2              2  @bwssbchairman @chairmanbwssb @BBMPCOMM @PCMoh...   \n",
       "3              3  Dy cm sir, basic steps- till metro stop new of...   \n",
       "4              4  #BWSSB has developed patented tech for self -r...   \n",
       "...          ...                                                ...   \n",
       "1995        1995  BWSSB contribution to yellenahalli,begur road ...   \n",
       "1996        1996  No one is answerable to citizens is it? @BBMPC...   \n",
       "1997        1997  Where has all the money from various taxes gon...   \n",
       "1998        1998  Pathetic road conditions due to Bwssb work sin...   \n",
       "1999        1999  @chairmanbwssb BWSSB online portal still shows...   \n",
       "\n",
       "                           Date         Username                 Hashtags  \n",
       "0     2020-01-31 17:25:11+00:00       mahesh3028                      NaN  \n",
       "1     2020-09-01 15:45:00+00:00     SamsungIndia   #GalaxyZFold2 #Samsung  \n",
       "2     2020-01-31 17:04:19+00:00   rajmalhotrasid  #Bengaluru #bwssb #BBMP  \n",
       "3     2020-01-31 16:17:24+00:00  Viswana70378552                      NaN  \n",
       "4     2020-01-31 16:17:06+00:00     SelfDoubtist                   #BWSSB  \n",
       "...                         ...              ...                      ...  \n",
       "1995  2019-09-25 03:20:51+00:00     arolitriveni                      NaN  \n",
       "1996  2019-09-25 03:12:53+00:00    dmoneymachine                      NaN  \n",
       "1997  2019-09-25 03:08:19+00:00  makingindiawork                      NaN  \n",
       "1998  2019-09-25 03:04:36+00:00    manishbucha82                    #BBMP  \n",
       "1999  2019-09-25 02:46:18+00:00      RebelloAnil                      NaN  \n",
       "\n",
       "[2000 rows x 5 columns]"
      ],
      "text/html": "<div>\n<style scoped>\n    .dataframe tbody tr th:only-of-type {\n        vertical-align: middle;\n    }\n\n    .dataframe tbody tr th {\n        vertical-align: top;\n    }\n\n    .dataframe thead th {\n        text-align: right;\n    }\n</style>\n<table border=\"1\" class=\"dataframe\">\n  <thead>\n    <tr style=\"text-align: right;\">\n      <th></th>\n      <th>Unnamed: 0</th>\n      <th>Tweet</th>\n      <th>Date</th>\n      <th>Username</th>\n      <th>Hashtags</th>\n    </tr>\n  </thead>\n  <tbody>\n    <tr>\n      <th>0</th>\n      <td>0</td>\n      <td>You can't clean Bangalore as there's no proper...</td>\n      <td>2020-01-31 17:25:11+00:00</td>\n      <td>mahesh3028</td>\n      <td>NaN</td>\n    </tr>\n    <tr>\n      <th>1</th>\n      <td>1</td>\n      <td>The future is now. Get ready for #GalaxyZFold2...</td>\n      <td>2020-09-01 15:45:00+00:00</td>\n      <td>SamsungIndia</td>\n      <td>#GalaxyZFold2 #Samsung</td>\n    </tr>\n    <tr>\n      <th>2</th>\n      <td>2</td>\n      <td>@bwssbchairman @chairmanbwssb @BBMPCOMM @PCMoh...</td>\n      <td>2020-01-31 17:04:19+00:00</td>\n      <td>rajmalhotrasid</td>\n      <td>#Bengaluru #bwssb #BBMP</td>\n    </tr>\n    <tr>\n      <th>3</th>\n      <td>3</td>\n      <td>Dy cm sir, basic steps- till metro stop new of...</td>\n      <td>2020-01-31 16:17:24+00:00</td>\n      <td>Viswana70378552</td>\n      <td>NaN</td>\n    </tr>\n    <tr>\n      <th>4</th>\n      <td>4</td>\n      <td>#BWSSB has developed patented tech for self -r...</td>\n      <td>2020-01-31 16:17:06+00:00</td>\n      <td>SelfDoubtist</td>\n      <td>#BWSSB</td>\n    </tr>\n    <tr>\n      <th>...</th>\n      <td>...</td>\n      <td>...</td>\n      <td>...</td>\n      <td>...</td>\n      <td>...</td>\n    </tr>\n    <tr>\n      <th>1995</th>\n      <td>1995</td>\n      <td>BWSSB contribution to yellenahalli,begur road ...</td>\n      <td>2019-09-25 03:20:51+00:00</td>\n      <td>arolitriveni</td>\n      <td>NaN</td>\n    </tr>\n    <tr>\n      <th>1996</th>\n      <td>1996</td>\n      <td>No one is answerable to citizens is it? @BBMPC...</td>\n      <td>2019-09-25 03:12:53+00:00</td>\n      <td>dmoneymachine</td>\n      <td>NaN</td>\n    </tr>\n    <tr>\n      <th>1997</th>\n      <td>1997</td>\n      <td>Where has all the money from various taxes gon...</td>\n      <td>2019-09-25 03:08:19+00:00</td>\n      <td>makingindiawork</td>\n      <td>NaN</td>\n    </tr>\n    <tr>\n      <th>1998</th>\n      <td>1998</td>\n      <td>Pathetic road conditions due to Bwssb work sin...</td>\n      <td>2019-09-25 03:04:36+00:00</td>\n      <td>manishbucha82</td>\n      <td>#BBMP</td>\n    </tr>\n    <tr>\n      <th>1999</th>\n      <td>1999</td>\n      <td>@chairmanbwssb BWSSB online portal still shows...</td>\n      <td>2019-09-25 02:46:18+00:00</td>\n      <td>RebelloAnil</td>\n      <td>NaN</td>\n    </tr>\n  </tbody>\n</table>\n<p>2000 rows × 5 columns</p>\n</div>"
     },
     "metadata": {},
     "execution_count": 14
    }
   ],
   "source": [
    "dfbwssb = pd.read_csv(\"Datasets/BWSSBData.csv\")\n",
    "dfbwssb"
   ]
  },
  {
   "cell_type": "code",
   "execution_count": 11,
   "metadata": {},
   "outputs": [],
   "source": [
    "#addCat(dfbwssb,\"BWSSBData1.csv\")"
   ]
  },
  {
   "source": [
    "## Adding Categories for Traffic/Parking Data"
   ],
   "cell_type": "markdown",
   "metadata": {}
  },
  {
   "cell_type": "code",
   "execution_count": 15,
   "metadata": {},
   "outputs": [
    {
     "output_type": "execute_result",
     "data": {
      "text/plain": [
       "     Unnamed: 0                                              Tweet  \\\n",
       "0             0  @BMTC_BENGALURU thinks that all roads are belo...   \n",
       "1             1  The future is now. Get ready for #GalaxyZFold2...   \n",
       "2             2  This road rage has become so common these days...   \n",
       "3             3  These BMTC bus drivers don't follow basic road...   \n",
       "4             4  And Electronic City and ORR and Sarjapur Road....   \n",
       "..          ...                                                ...   \n",
       "995         995  Things raindrops hurtling toward Bangalore see...   \n",
       "996         996  who will look After traffic issues happening w...   \n",
       "997         997  @bjparvind @BSYBJP @Tejasvi_Surya at Iblur bus...   \n",
       "998         998  @nitin_gadkari @MORTHIndia @tdkarnataka Sir we...   \n",
       "999         999  The biggest menace on Bangalore roads are BMTC...   \n",
       "\n",
       "                          Date         Username                Hashtags  \n",
       "0    2020-01-31 14:22:48+00:00      NaveenDamle                     NaN  \n",
       "1    2020-09-01 15:45:00+00:00     SamsungIndia  #GalaxyZFold2 #Samsung  \n",
       "2    2020-01-31 09:29:00+00:00    travelofindia                     NaN  \n",
       "3    2020-01-31 08:38:03+00:00           cishan                     NaN  \n",
       "4    2020-01-31 06:28:10+00:00    srinualavilli                     NaN  \n",
       "..                         ...              ...                     ...  \n",
       "995  2019-08-17 03:27:43+00:00       rainbotblr         #bangalorerains  \n",
       "996  2019-08-17 01:26:59+00:00   rakeshsahoo318                     NaN  \n",
       "997  2019-08-16 19:32:58+00:00            gyan_                     NaN  \n",
       "998  2019-08-16 17:17:26+00:00  aa10860303424b1                     NaN  \n",
       "999  2019-08-16 16:36:57+00:00  DileepKumarJai1                     NaN  \n",
       "\n",
       "[1000 rows x 5 columns]"
      ],
      "text/html": "<div>\n<style scoped>\n    .dataframe tbody tr th:only-of-type {\n        vertical-align: middle;\n    }\n\n    .dataframe tbody tr th {\n        vertical-align: top;\n    }\n\n    .dataframe thead th {\n        text-align: right;\n    }\n</style>\n<table border=\"1\" class=\"dataframe\">\n  <thead>\n    <tr style=\"text-align: right;\">\n      <th></th>\n      <th>Unnamed: 0</th>\n      <th>Tweet</th>\n      <th>Date</th>\n      <th>Username</th>\n      <th>Hashtags</th>\n    </tr>\n  </thead>\n  <tbody>\n    <tr>\n      <th>0</th>\n      <td>0</td>\n      <td>@BMTC_BENGALURU thinks that all roads are belo...</td>\n      <td>2020-01-31 14:22:48+00:00</td>\n      <td>NaveenDamle</td>\n      <td>NaN</td>\n    </tr>\n    <tr>\n      <th>1</th>\n      <td>1</td>\n      <td>The future is now. Get ready for #GalaxyZFold2...</td>\n      <td>2020-09-01 15:45:00+00:00</td>\n      <td>SamsungIndia</td>\n      <td>#GalaxyZFold2 #Samsung</td>\n    </tr>\n    <tr>\n      <th>2</th>\n      <td>2</td>\n      <td>This road rage has become so common these days...</td>\n      <td>2020-01-31 09:29:00+00:00</td>\n      <td>travelofindia</td>\n      <td>NaN</td>\n    </tr>\n    <tr>\n      <th>3</th>\n      <td>3</td>\n      <td>These BMTC bus drivers don't follow basic road...</td>\n      <td>2020-01-31 08:38:03+00:00</td>\n      <td>cishan</td>\n      <td>NaN</td>\n    </tr>\n    <tr>\n      <th>4</th>\n      <td>4</td>\n      <td>And Electronic City and ORR and Sarjapur Road....</td>\n      <td>2020-01-31 06:28:10+00:00</td>\n      <td>srinualavilli</td>\n      <td>NaN</td>\n    </tr>\n    <tr>\n      <th>...</th>\n      <td>...</td>\n      <td>...</td>\n      <td>...</td>\n      <td>...</td>\n      <td>...</td>\n    </tr>\n    <tr>\n      <th>995</th>\n      <td>995</td>\n      <td>Things raindrops hurtling toward Bangalore see...</td>\n      <td>2019-08-17 03:27:43+00:00</td>\n      <td>rainbotblr</td>\n      <td>#bangalorerains</td>\n    </tr>\n    <tr>\n      <th>996</th>\n      <td>996</td>\n      <td>who will look After traffic issues happening w...</td>\n      <td>2019-08-17 01:26:59+00:00</td>\n      <td>rakeshsahoo318</td>\n      <td>NaN</td>\n    </tr>\n    <tr>\n      <th>997</th>\n      <td>997</td>\n      <td>@bjparvind @BSYBJP @Tejasvi_Surya at Iblur bus...</td>\n      <td>2019-08-16 19:32:58+00:00</td>\n      <td>gyan_</td>\n      <td>NaN</td>\n    </tr>\n    <tr>\n      <th>998</th>\n      <td>998</td>\n      <td>@nitin_gadkari @MORTHIndia @tdkarnataka Sir we...</td>\n      <td>2019-08-16 17:17:26+00:00</td>\n      <td>aa10860303424b1</td>\n      <td>NaN</td>\n    </tr>\n    <tr>\n      <th>999</th>\n      <td>999</td>\n      <td>The biggest menace on Bangalore roads are BMTC...</td>\n      <td>2019-08-16 16:36:57+00:00</td>\n      <td>DileepKumarJai1</td>\n      <td>NaN</td>\n    </tr>\n  </tbody>\n</table>\n<p>1000 rows × 5 columns</p>\n</div>"
     },
     "metadata": {},
     "execution_count": 15
    }
   ],
   "source": [
    "dftraf = pd.read_csv(\"Datasets/trafficDataset.csv\")\n",
    "dftraf"
   ]
  },
  {
   "cell_type": "code",
   "execution_count": 16,
   "metadata": {},
   "outputs": [],
   "source": [
    "#addCat(dftraf,\"trafficData1.csv\")"
   ]
  },
  {
   "cell_type": "code",
   "execution_count": null,
   "metadata": {},
   "outputs": [],
   "source": []
  }
 ],
 "metadata": {
  "kernelspec": {
   "display_name": "Python 3",
   "language": "python",
   "name": "python3"
  },
  "language_info": {
   "codemirror_mode": {
    "name": "ipython",
    "version": 3
   },
   "file_extension": ".py",
   "mimetype": "text/x-python",
   "name": "python",
   "nbconvert_exporter": "python",
   "pygments_lexer": "ipython3",
   "version": "3.7.6-final"
  }
 },
 "nbformat": 4,
 "nbformat_minor": 4
}