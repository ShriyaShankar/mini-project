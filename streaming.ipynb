{
 "metadata": {
  "language_info": {
   "codemirror_mode": {
    "name": "ipython",
    "version": 3
   },
   "file_extension": ".py",
   "mimetype": "text/x-python",
   "name": "python",
   "nbconvert_exporter": "python",
   "pygments_lexer": "ipython3",
   "version": "3.7.6-final"
  },
  "orig_nbformat": 2,
  "kernelspec": {
   "name": "python3",
   "display_name": "Python 3"
  }
 },
 "nbformat": 4,
 "nbformat_minor": 2,
 "cells": [
  {
   "source": [
    "# Testing Framework on Streaming Data"
   ],
   "cell_type": "markdown",
   "metadata": {}
  },
  {
   "source": [
    "### Importing libraries"
   ],
   "cell_type": "markdown",
   "metadata": {}
  },
  {
   "cell_type": "code",
   "execution_count": 37,
   "metadata": {},
   "outputs": [],
   "source": [
    "import pandas as pd \n",
    "import numpy as np\n",
    "from tweepy import StreamListener\n",
    "from tweepy import OAuthHandler\n",
    "from tweepy import Stream \n",
    "import json\n",
    "import pandas as pd\n",
    "import preprocessor as preprocess"
   ]
  },
  {
   "source": [
    "### Getting the Authentication Details"
   ],
   "cell_type": "markdown",
   "metadata": {}
  },
  {
   "cell_type": "code",
   "execution_count": 3,
   "metadata": {},
   "outputs": [],
   "source": [
    "access_token = '995926266032242688-Nm0o3MJLqDywYV08HfIeKkIWO9ryrLA'\n",
    "access_token_secret = 'o5qrF3MdtXDRmKX1oPk8mISZyXYkUppJlNf9noWaoCaSm'\n",
    "\n",
    "consumer_key = 'AO2Gys8oVrF8NP7jr081XUnIO'\n",
    "consumer_key_secret = '1HDS8CNsRE9iaaZLb1Ye9jjTL4Pc10EDgvbF7KJxxWECkjjhvh'"
   ]
  },
  {
   "source": [
    "### Creating class to handle the streaming data"
   ],
   "cell_type": "markdown",
   "metadata": {}
  },
  {
   "cell_type": "code",
   "execution_count": 24,
   "metadata": {
    "tags": []
   },
   "outputs": [],
   "source": [
    "tweet_count = 0 # Current tweet count\n",
    "n_tweets = 10 # Number of tweets to scrape at a time\n",
    "tweets_data = []\n",
    "\n",
    "def get_tweet(line):\n",
    "    try:  \n",
    "        tweet = json.loads(line)  \n",
    "        tweets_data.append(tweet)  \n",
    "    except:  \n",
    "        print(\"Unable to convert\")\n",
    "\n",
    "class StdOutListener(StreamListener):\n",
    "      \n",
    "    def on_data(self, data):\n",
    "        global tweet_count\n",
    "        global n_tweets\n",
    "        global stream \n",
    "        \n",
    "        # tweets_data = []\n",
    "\n",
    "        f = open(\"live_tweets.txt\",\"w+\")\n",
    "        if tweet_count < n_tweets:   \n",
    "            get_tweet(data)\n",
    "            tweet_count+=1\n",
    "            return True\n",
    "        else:\n",
    "            stream.disconnect()\n",
    "        f.close()\n",
    "        \n",
    "    def on_error(self, status):\n",
    "        print(status)\n",
    "\n",
    "if __name__ == '__main__':  \n",
    "# Handle Twitter authentification and the connection to Twitter Streaming API\n",
    "    l = StdOutListener()\n",
    "    auth = OAuthHandler(consumer_key, consumer_key_secret)\n",
    "    auth.set_access_token(access_token, access_token_secret)\n",
    "    stream = Stream(auth, l)\n",
    "    stream.filter(locations=[77.148514,12.733452,78.015747,13.141672])"
   ]
  },
  {
   "cell_type": "code",
   "execution_count": 31,
   "metadata": {},
   "outputs": [
    {
     "output_type": "execute_result",
     "data": {
      "text/plain": [
       "                                                text         Username  \\\n",
       "0  @rameshlaus Sir please say about #Valimai upda...   rockylocky3456   \n",
       "1  Hello @Vivo_India  check my entry on insta 😍  ...         viggi_19   \n",
       "2                            https://t.co/ujjQyfACQ4  BheemeshKumarg1   \n",
       "\n",
       "                        Timestamp  \n",
       "0  Sat Nov 14 10:37:18 +0000 2020  \n",
       "1  Sat Nov 14 10:37:27 +0000 2020  \n",
       "2  Sat Nov 14 10:37:54 +0000 2020  "
      ],
      "text/html": "<div>\n<style scoped>\n    .dataframe tbody tr th:only-of-type {\n        vertical-align: middle;\n    }\n\n    .dataframe tbody tr th {\n        vertical-align: top;\n    }\n\n    .dataframe thead th {\n        text-align: right;\n    }\n</style>\n<table border=\"1\" class=\"dataframe\">\n  <thead>\n    <tr style=\"text-align: right;\">\n      <th></th>\n      <th>text</th>\n      <th>Username</th>\n      <th>Timestamp</th>\n    </tr>\n  </thead>\n  <tbody>\n    <tr>\n      <th>0</th>\n      <td>@rameshlaus Sir please say about #Valimai upda...</td>\n      <td>rockylocky3456</td>\n      <td>Sat Nov 14 10:37:18 +0000 2020</td>\n    </tr>\n    <tr>\n      <th>1</th>\n      <td>Hello @Vivo_India  check my entry on insta 😍  ...</td>\n      <td>viggi_19</td>\n      <td>Sat Nov 14 10:37:27 +0000 2020</td>\n    </tr>\n    <tr>\n      <th>2</th>\n      <td>https://t.co/ujjQyfACQ4</td>\n      <td>BheemeshKumarg1</td>\n      <td>Sat Nov 14 10:37:54 +0000 2020</td>\n    </tr>\n  </tbody>\n</table>\n</div>"
     },
     "metadata": {},
     "execution_count": 31
    }
   ],
   "source": [
    "# print(tweets_data)\n",
    "tweets = pd.DataFrame()\n",
    "tweets['text'] = list(map(lambda tweet: tweet['text'], tweets_data))\n",
    "tweets['Username'] = list(map(lambda tweet: tweet['user']['screen_name'], tweets_data))\n",
    "tweets['Timestamp'] = list(map(lambda tweet: tweet['created_at'], tweets_data))\n",
    "tweets.head()"
   ]
  },
  {
   "cell_type": "code",
   "execution_count": 35,
   "metadata": {},
   "outputs": [
    {
     "output_type": "execute_result",
     "data": {
      "text/plain": [
       "                                                text         Username  \\\n",
       "0  @rameshlaus Sir please say about #Valimai upda...   rockylocky3456   \n",
       "1  Hello @Vivo_India  check my entry on insta 😍  ...         viggi_19   \n",
       "2                            https://t.co/ujjQyfACQ4  BheemeshKumarg1   \n",
       "\n",
       "                        Timestamp  \n",
       "0  Sat Nov 14 10:37:18 +0000 2020  \n",
       "1  Sat Nov 14 10:37:27 +0000 2020  \n",
       "2  Sat Nov 14 10:37:54 +0000 2020  "
      ],
      "text/html": "<div>\n<style scoped>\n    .dataframe tbody tr th:only-of-type {\n        vertical-align: middle;\n    }\n\n    .dataframe tbody tr th {\n        vertical-align: top;\n    }\n\n    .dataframe thead th {\n        text-align: right;\n    }\n</style>\n<table border=\"1\" class=\"dataframe\">\n  <thead>\n    <tr style=\"text-align: right;\">\n      <th></th>\n      <th>text</th>\n      <th>Username</th>\n      <th>Timestamp</th>\n    </tr>\n  </thead>\n  <tbody>\n    <tr>\n      <th>0</th>\n      <td>@rameshlaus Sir please say about #Valimai upda...</td>\n      <td>rockylocky3456</td>\n      <td>Sat Nov 14 10:37:18 +0000 2020</td>\n    </tr>\n    <tr>\n      <th>1</th>\n      <td>Hello @Vivo_India  check my entry on insta 😍  ...</td>\n      <td>viggi_19</td>\n      <td>Sat Nov 14 10:37:27 +0000 2020</td>\n    </tr>\n    <tr>\n      <th>2</th>\n      <td>https://t.co/ujjQyfACQ4</td>\n      <td>BheemeshKumarg1</td>\n      <td>Sat Nov 14 10:37:54 +0000 2020</td>\n    </tr>\n  </tbody>\n</table>\n</div>"
     },
     "metadata": {},
     "execution_count": 35
    }
   ],
   "source": [
    "tweets.head()"
   ]
  },
  {
   "cell_type": "code",
   "execution_count": 38,
   "metadata": {},
   "outputs": [],
   "source": [
    "def clean_tweets(row):\n",
    "    text = row['text']\n",
    "    text = preprocess.clean(text)\n",
    "    return text\n",
    "\n",
    "preprocessed_tweets = tweets.apply(clean_tweets,axis=1)"
   ]
  },
  {
   "cell_type": "code",
   "execution_count": 39,
   "metadata": {},
   "outputs": [
    {
     "output_type": "execute_result",
     "data": {
      "text/plain": [
       "0    Sir please say about update..\n",
       "1    Hello check my entry on insta\n",
       "2                                 \n",
       "dtype: object"
      ]
     },
     "metadata": {},
     "execution_count": 39
    }
   ],
   "source": [
    "preprocessed_tweets.head()"
   ]
  },
  {
   "cell_type": "code",
   "execution_count": null,
   "metadata": {},
   "outputs": [],
   "source": []
  }
 ]
}