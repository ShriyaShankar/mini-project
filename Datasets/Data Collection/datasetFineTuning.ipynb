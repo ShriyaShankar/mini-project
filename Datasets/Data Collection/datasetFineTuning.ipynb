{
 "cells": [
  {
   "cell_type": "code",
   "execution_count": 12,
   "metadata": {},
   "outputs": [],
   "source": [
    "import os\n",
    "import pandas as pd\n",
    "import numpy as np"
   ]
  },
  {
   "cell_type": "code",
   "execution_count": 13,
   "metadata": {},
   "outputs": [
    {
     "output_type": "execute_result",
     "data": {
      "text/plain": "&#39;d:\\\\PESU\\\\mini-project\\\\Datasets&#39;"
     },
     "metadata": {},
     "execution_count": 13
    }
   ],
   "source": [
    "os.getcwd()"
   ]
  },
  {
   "cell_type": "code",
   "execution_count": 14,
   "metadata": {},
   "outputs": [
    {
     "output_type": "execute_result",
     "data": {
      "text/plain": "                                         description       category  \\\n0                          Garbage behind the temple  Waste/Garbage   \n1                                      Air pollution            Air   \n2                            Air pollution in hebbal            Air   \n3                         Garbage is dumped near BES  Waste/Garbage   \n4  Leaf and garbage burning on Shakthi Ganapathi ...            Air   \n\n   civic_issue  \n0            1  \n1            1  \n2            1  \n3            1  \n4            1  ",
      "text/html": "<div>\n<style scoped>\n    .dataframe tbody tr th:only-of-type {\n        vertical-align: middle;\n    }\n\n    .dataframe tbody tr th {\n        vertical-align: top;\n    }\n\n    .dataframe thead th {\n        text-align: right;\n    }\n</style>\n<table border=\"1\" class=\"dataframe\">\n  <thead>\n    <tr style=\"text-align: right;\">\n      <th></th>\n      <th>description</th>\n      <th>category</th>\n      <th>civic_issue</th>\n    </tr>\n  </thead>\n  <tbody>\n    <tr>\n      <th>0</th>\n      <td>Garbage behind the temple</td>\n      <td>Waste/Garbage</td>\n      <td>1</td>\n    </tr>\n    <tr>\n      <th>1</th>\n      <td>Air pollution</td>\n      <td>Air</td>\n      <td>1</td>\n    </tr>\n    <tr>\n      <th>2</th>\n      <td>Air pollution in hebbal</td>\n      <td>Air</td>\n      <td>1</td>\n    </tr>\n    <tr>\n      <th>3</th>\n      <td>Garbage is dumped near BES</td>\n      <td>Waste/Garbage</td>\n      <td>1</td>\n    </tr>\n    <tr>\n      <th>4</th>\n      <td>Leaf and garbage burning on Shakthi Ganapathi ...</td>\n      <td>Air</td>\n      <td>1</td>\n    </tr>\n  </tbody>\n</table>\n</div>"
     },
     "metadata": {},
     "execution_count": 14
    }
   ],
   "source": [
    "df = pd.read_csv(\"cat_dataset.csv\")\n",
    "#print(df.count())\n",
    "civicIssue = [1]*10723\n",
    "#df[\"civic_issue\"] = civicIssue\n",
    "df.head()\n",
    "#df.to_csv(\"cat_dataset.csv\")"
   ]
  },
  {
   "cell_type": "code",
   "execution_count": 4,
   "metadata": {},
   "outputs": [
    {
     "data": {
      "text/html": [
       "<div>\n",
       "<style scoped>\n",
       "    .dataframe tbody tr th:only-of-type {\n",
       "        vertical-align: middle;\n",
       "    }\n",
       "\n",
       "    .dataframe tbody tr th {\n",
       "        vertical-align: top;\n",
       "    }\n",
       "\n",
       "    .dataframe thead th {\n",
       "        text-align: right;\n",
       "    }\n",
       "</style>\n",
       "<table border=\"1\" class=\"dataframe\">\n",
       "  <thead>\n",
       "    <tr style=\"text-align: right;\">\n",
       "      <th></th>\n",
       "      <th>description</th>\n",
       "      <th>category</th>\n",
       "    </tr>\n",
       "  </thead>\n",
       "  <tbody>\n",
       "    <tr>\n",
       "      <th>0</th>\n",
       "      <td>Garbage behind the temple</td>\n",
       "      <td>Waste/Garbage</td>\n",
       "    </tr>\n",
       "    <tr>\n",
       "      <th>1</th>\n",
       "      <td>Air pollution</td>\n",
       "      <td>Air</td>\n",
       "    </tr>\n",
       "    <tr>\n",
       "      <th>2</th>\n",
       "      <td>Air pollution in hebbal</td>\n",
       "      <td>Air</td>\n",
       "    </tr>\n",
       "    <tr>\n",
       "      <th>3</th>\n",
       "      <td>Garbage is dumped near BES</td>\n",
       "      <td>Waste/Garbage</td>\n",
       "    </tr>\n",
       "    <tr>\n",
       "      <th>4</th>\n",
       "      <td>Leaf and garbage burning on Shakthi Ganapathi ...</td>\n",
       "      <td>Air</td>\n",
       "    </tr>\n",
       "  </tbody>\n",
       "</table>\n",
       "</div>"
      ],
      "text/plain": [
       "                                         description       category\n",
       "0                          Garbage behind the temple  Waste/Garbage\n",
       "1                                      Air pollution            Air\n",
       "2                            Air pollution in hebbal            Air\n",
       "3                         Garbage is dumped near BES  Waste/Garbage\n",
       "4  Leaf and garbage burning on Shakthi Ganapathi ...            Air"
      ]
     },
     "execution_count": 4,
     "metadata": {},
     "output_type": "execute_result"
    }
   ],
   "source": []
  },
  {
   "cell_type": "code",
   "execution_count": 11,
   "metadata": {},
   "outputs": [],
   "source": [
    "df = pd.read_csv(\"cat_dataset.csv\")\n",
    "df.head()\n",
    "df1 = df.iloc[:,2:]\n",
    "df1.head()\n",
    "df1.to_csv(\"cat_dataset.csv\")"
   ]
  },
  {
   "cell_type": "code",
   "execution_count": null,
   "metadata": {},
   "outputs": [],
   "source": []
  }
 ],
 "metadata": {
  "kernelspec": {
   "display_name": "Python 3.7.0 64-bit",
   "language": "python",
   "name": "python37064bit1d987c35025341e2aefe788fd3b05888"
  },
  "language_info": {
   "codemirror_mode": {
    "name": "ipython",
    "version": 3
   },
   "file_extension": ".py",
   "mimetype": "text/x-python",
   "name": "python",
   "nbconvert_exporter": "python",
   "pygments_lexer": "ipython3",
   "version": "3.7.6-final"
  }
 },
 "nbformat": 4,
 "nbformat_minor": 4
}