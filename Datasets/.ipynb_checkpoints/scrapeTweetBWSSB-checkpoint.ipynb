{
 "cells": [
  {
   "cell_type": "markdown",
   "metadata": {},
   "source": [
    "# Data Collection"
   ]
  },
  {
   "cell_type": "markdown",
   "metadata": {},
   "source": [
    "## Category: i) Water, ii) Sewage"
   ]
  },
  {
   "cell_type": "code",
   "execution_count": 1,
   "metadata": {},
   "outputs": [],
   "source": [
    "import GetOldTweets3 as got\n",
    "import pandas as pd \n",
    "import numpy as np \n",
    "import os"
   ]
  },
  {
   "cell_type": "markdown",
   "metadata": {},
   "source": [
    "### Sewage"
   ]
  },
  {
   "cell_type": "code",
   "execution_count": 2,
   "metadata": {},
   "outputs": [],
   "source": [
    "text_queries = \"'BWSSB\"#' AND 'Sewage'\"\n",
    "max_count = 2000\n",
    "location = \"'Bengaluru' OR 'Bangalore'\"\n",
    "language = \"english\"\n",
    "end_date = \"2020-02-01\""
   ]
  },
  {
   "cell_type": "code",
   "execution_count": 3,
   "metadata": {},
   "outputs": [],
   "source": [
    "tweetCriteria = got.manager.TweetCriteria().setQuerySearch(text_queries)\\\n",
    "                .setUntil(end_date).setLang(language).setMaxTweets(max_count).setNear(location)"
   ]
  },
  {
   "cell_type": "code",
   "execution_count": 4,
   "metadata": {},
   "outputs": [
    {
     "name": "stderr",
     "output_type": "stream",
     "text": [
      "ERROR:root:Internal Python error in the inspect module.\n",
      "Below is the traceback from this internal error.\n",
      "\n"
     ]
    },
    {
     "name": "stdout",
     "output_type": "stream",
     "text": [
      "An error occured during an HTTP request: HTTP Error 404: Not Found\n",
      "Try to open in browser: https://twitter.com/search?q=%27BWSSB%20near%3A%22%27Bengaluru%27%20OR%20%27Bangalore%27%22%20within%3A15mi%20until%3A2020-02-01&src=typd\n",
      "Traceback (most recent call last):\n",
      "  File \"C:\\Users\\Adithi Satish\\anaconda3\\lib\\site-packages\\GetOldTweets3\\manager\\TweetManager.py\", line 343, in getJsonResponse\n",
      "    response = opener.open(url)\n",
      "  File \"C:\\Users\\Adithi Satish\\anaconda3\\lib\\urllib\\request.py\", line 531, in open\n",
      "    response = meth(req, response)\n",
      "  File \"C:\\Users\\Adithi Satish\\anaconda3\\lib\\urllib\\request.py\", line 641, in http_response\n",
      "    'http', request, response, code, msg, hdrs)\n",
      "  File \"C:\\Users\\Adithi Satish\\anaconda3\\lib\\urllib\\request.py\", line 569, in error\n",
      "    return self._call_chain(*args)\n",
      "  File \"C:\\Users\\Adithi Satish\\anaconda3\\lib\\urllib\\request.py\", line 503, in _call_chain\n",
      "    result = func(*args)\n",
      "  File \"C:\\Users\\Adithi Satish\\anaconda3\\lib\\urllib\\request.py\", line 649, in http_error_default\n",
      "    raise HTTPError(req.full_url, code, msg, hdrs, fp)\n",
      "urllib.error.HTTPError: HTTP Error 404: Not Found\n",
      "\n",
      "During handling of the above exception, another exception occurred:\n",
      "\n",
      "Traceback (most recent call last):\n",
      "  File \"C:\\Users\\Adithi Satish\\anaconda3\\lib\\site-packages\\IPython\\core\\interactiveshell.py\", line 3331, in run_code\n",
      "    exec(code_obj, self.user_global_ns, self.user_ns)\n",
      "  File \"<ipython-input-4-2b964b65d29f>\", line 1, in <module>\n",
      "    tweets = got.manager.TweetManager.getTweets(tweetCriteria)\n",
      "  File \"C:\\Users\\Adithi Satish\\anaconda3\\lib\\site-packages\\GetOldTweets3\\manager\\TweetManager.py\", line 65, in getTweets\n",
      "    json = TweetManager.getJsonResponse(tweetCriteria, refreshCursor, cookieJar, proxy, user_agent, debug=debug)\n",
      "  File \"C:\\Users\\Adithi Satish\\anaconda3\\lib\\site-packages\\GetOldTweets3\\manager\\TweetManager.py\", line 348, in getJsonResponse\n",
      "    sys.exit()\n",
      "SystemExit\n",
      "\n",
      "During handling of the above exception, another exception occurred:\n",
      "\n",
      "Traceback (most recent call last):\n",
      "  File \"C:\\Users\\Adithi Satish\\anaconda3\\lib\\site-packages\\IPython\\core\\ultratb.py\", line 1151, in get_records\n",
      "    return _fixed_getinnerframes(etb, number_of_lines_of_context, tb_offset)\n",
      "  File \"C:\\Users\\Adithi Satish\\anaconda3\\lib\\site-packages\\IPython\\core\\ultratb.py\", line 319, in wrapped\n",
      "    return f(*args, **kwargs)\n",
      "  File \"C:\\Users\\Adithi Satish\\anaconda3\\lib\\site-packages\\IPython\\core\\ultratb.py\", line 353, in _fixed_getinnerframes\n",
      "    records = fix_frame_records_filenames(inspect.getinnerframes(etb, context))\n",
      "  File \"C:\\Users\\Adithi Satish\\anaconda3\\lib\\inspect.py\", line 1502, in getinnerframes\n",
      "    frameinfo = (tb.tb_frame,) + getframeinfo(tb, context)\n",
      "AttributeError: 'tuple' object has no attribute 'tb_frame'\n"
     ]
    },
    {
     "ename": "SystemExit",
     "evalue": "",
     "output_type": "error",
     "traceback": [
      "An exception has occurred, use %tb to see the full traceback.\n",
      "\u001b[1;31m---------------------------------------------------------------------------\u001b[0m",
      "\nDuring handling of the above exception, another exception occurred:\n",
      "\u001b[1;31mSystemExit\u001b[0m\n"
     ]
    },
    {
     "name": "stderr",
     "output_type": "stream",
     "text": [
      "C:\\Users\\Adithi Satish\\anaconda3\\lib\\site-packages\\IPython\\core\\interactiveshell.py:3339: UserWarning: To exit: use 'exit', 'quit', or Ctrl-D.\n",
      "  warn(\"To exit: use 'exit', 'quit', or Ctrl-D.\", stacklevel=1)\n"
     ]
    }
   ],
   "source": [
    "tweets = got.manager.TweetManager.getTweets(tweetCriteria)"
   ]
  },
  {
   "cell_type": "code",
   "execution_count": 9,
   "metadata": {},
   "outputs": [],
   "source": [
    "extracted_tweet = [[tweet.text,tweet.date,tweet.username,tweet.hashtags] for tweet in tweets]\n",
    "df = pd.DataFrame(extracted_tweet,columns=[\"Tweet\",\"Date\",\"Username\",\"Hashtags\"])"
   ]
  },
  {
   "cell_type": "code",
   "execution_count": 10,
   "metadata": {},
   "outputs": [
    {
     "data": {
      "text/html": [
       "<div>\n",
       "<style scoped>\n",
       "    .dataframe tbody tr th:only-of-type {\n",
       "        vertical-align: middle;\n",
       "    }\n",
       "\n",
       "    .dataframe tbody tr th {\n",
       "        vertical-align: top;\n",
       "    }\n",
       "\n",
       "    .dataframe thead th {\n",
       "        text-align: right;\n",
       "    }\n",
       "</style>\n",
       "<table border=\"1\" class=\"dataframe\">\n",
       "  <thead>\n",
       "    <tr style=\"text-align: right;\">\n",
       "      <th></th>\n",
       "      <th>Tweet</th>\n",
       "      <th>Date</th>\n",
       "      <th>Username</th>\n",
       "      <th>Hashtags</th>\n",
       "    </tr>\n",
       "  </thead>\n",
       "  <tbody>\n",
       "    <tr>\n",
       "      <th>0</th>\n",
       "      <td>You can't clean Bangalore as there's no proper...</td>\n",
       "      <td>2020-01-31 17:25:11+00:00</td>\n",
       "      <td>mahesh3028</td>\n",
       "      <td></td>\n",
       "    </tr>\n",
       "    <tr>\n",
       "      <th>1</th>\n",
       "      <td>The future is now. Get ready for #GalaxyZFold2...</td>\n",
       "      <td>2020-09-01 15:45:00+00:00</td>\n",
       "      <td>SamsungIndia</td>\n",
       "      <td>#GalaxyZFold2 #Samsung</td>\n",
       "    </tr>\n",
       "    <tr>\n",
       "      <th>2</th>\n",
       "      <td>@bwssbchairman @chairmanbwssb @BBMPCOMM @PCMoh...</td>\n",
       "      <td>2020-01-31 17:04:19+00:00</td>\n",
       "      <td>rajmalhotrasid</td>\n",
       "      <td>#Bengaluru #bwssb #BBMP</td>\n",
       "    </tr>\n",
       "    <tr>\n",
       "      <th>3</th>\n",
       "      <td>Dy cm sir, basic steps- till metro stop new of...</td>\n",
       "      <td>2020-01-31 16:17:24+00:00</td>\n",
       "      <td>Viswana70378552</td>\n",
       "      <td></td>\n",
       "    </tr>\n",
       "    <tr>\n",
       "      <th>4</th>\n",
       "      <td>#BWSSB has developed patented tech for self -r...</td>\n",
       "      <td>2020-01-31 16:17:06+00:00</td>\n",
       "      <td>SelfDoubtist</td>\n",
       "      <td>#BWSSB</td>\n",
       "    </tr>\n",
       "    <tr>\n",
       "      <th>5</th>\n",
       "      <td>Dear @BBMP_MAYOR there are still some undug ro...</td>\n",
       "      <td>2020-01-31 14:55:16+00:00</td>\n",
       "      <td>NehaaMittal</td>\n",
       "      <td>#BBMP</td>\n",
       "    </tr>\n",
       "    <tr>\n",
       "      <th>6</th>\n",
       "      <td>This road is freshly done today. Let's see how...</td>\n",
       "      <td>2020-01-31 14:45:40+00:00</td>\n",
       "      <td>abezack</td>\n",
       "      <td></td>\n",
       "    </tr>\n",
       "    <tr>\n",
       "      <th>7</th>\n",
       "      <td>@chairmanbwssb Tushar sir,you always responded...</td>\n",
       "      <td>2020-01-31 14:40:26+00:00</td>\n",
       "      <td>kdevforum</td>\n",
       "      <td>#Bellandur #MoteraStadium</td>\n",
       "    </tr>\n",
       "    <tr>\n",
       "      <th>8</th>\n",
       "      <td>Board exams hv started and state govt has also...</td>\n",
       "      <td>2020-01-31 14:31:04+00:00</td>\n",
       "      <td>Navneet11659347</td>\n",
       "      <td></td>\n",
       "    </tr>\n",
       "    <tr>\n",
       "      <th>9</th>\n",
       "      <td>@onlineBESCOM ,@mdbescom ,@PiyushGoyal ,@BSYBJ...</td>\n",
       "      <td>2020-01-31 14:31:03+00:00</td>\n",
       "      <td>Navneet11659347</td>\n",
       "      <td></td>\n",
       "    </tr>\n",
       "    <tr>\n",
       "      <th>10</th>\n",
       "      <td>@BBMPCOMM bbmp toilet situation next to jyoti ...</td>\n",
       "      <td>2020-01-31 12:02:21+00:00</td>\n",
       "      <td>gopi_hegde</td>\n",
       "      <td></td>\n",
       "    </tr>\n",
       "    <tr>\n",
       "      <th>11</th>\n",
       "      <td>3/3 if this situation, I dread to think what h...</td>\n",
       "      <td>2020-01-31 11:47:20+00:00</td>\n",
       "      <td>Kora_prapancha</td>\n",
       "      <td></td>\n",
       "    </tr>\n",
       "    <tr>\n",
       "      <th>12</th>\n",
       "      <td>2/3 When the AEE of Bwssb was contacted - his ...</td>\n",
       "      <td>2020-01-31 11:39:01+00:00</td>\n",
       "      <td>Kora_prapancha</td>\n",
       "      <td></td>\n",
       "    </tr>\n",
       "    <tr>\n",
       "      <th>13</th>\n",
       "      <td>@chairmanbwssb 1/3 Most of Koramangala has bee...</td>\n",
       "      <td>2020-01-31 11:36:30+00:00</td>\n",
       "      <td>Kora_prapancha</td>\n",
       "      <td></td>\n",
       "    </tr>\n",
       "    <tr>\n",
       "      <th>14</th>\n",
       "      <td>#BBMP #BWSSB WAKE UP!!!!!@nitin_gadkari @CMofK...</td>\n",
       "      <td>2020-01-31 09:04:36+00:00</td>\n",
       "      <td>nehasippy</td>\n",
       "      <td>#BBMP #BWSSB</td>\n",
       "    </tr>\n",
       "    <tr>\n",
       "      <th>15</th>\n",
       "      <td>Called bwssb helpline. Vidya of helpline had n...</td>\n",
       "      <td>2020-01-31 08:54:14+00:00</td>\n",
       "      <td>bnithin123</td>\n",
       "      <td></td>\n",
       "    </tr>\n",
       "    <tr>\n",
       "      <th>16</th>\n",
       "      <td>Request BWSSB to Please do take some action im...</td>\n",
       "      <td>2020-01-31 08:49:08+00:00</td>\n",
       "      <td>JohnathanSindhu</td>\n",
       "      <td></td>\n",
       "    </tr>\n",
       "    <tr>\n",
       "      <th>17</th>\n",
       "      <td>Attention BWSSB, this is to bring to your kind...</td>\n",
       "      <td>2020-01-31 08:49:07+00:00</td>\n",
       "      <td>JohnathanSindhu</td>\n",
       "      <td></td>\n",
       "    </tr>\n",
       "    <tr>\n",
       "      <th>18</th>\n",
       "      <td>If consider Since 2000,Amount investd by #BBMP...</td>\n",
       "      <td>2020-01-31 07:56:22+00:00</td>\n",
       "      <td>SridharDPS</td>\n",
       "      <td>#BBMP #BWSSB #Singapore #Bengaluru #Infrastruc...</td>\n",
       "    </tr>\n",
       "    <tr>\n",
       "      <th>19</th>\n",
       "      <td>BWSSB &amp;amp; BBMP in a joint venture is mining ...</td>\n",
       "      <td>2020-01-31 07:04:38+00:00</td>\n",
       "      <td>Harsha_sg</td>\n",
       "      <td></td>\n",
       "    </tr>\n",
       "  </tbody>\n",
       "</table>\n",
       "</div>"
      ],
      "text/plain": [
       "                                                Tweet  \\\n",
       "0   You can't clean Bangalore as there's no proper...   \n",
       "1   The future is now. Get ready for #GalaxyZFold2...   \n",
       "2   @bwssbchairman @chairmanbwssb @BBMPCOMM @PCMoh...   \n",
       "3   Dy cm sir, basic steps- till metro stop new of...   \n",
       "4   #BWSSB has developed patented tech for self -r...   \n",
       "5   Dear @BBMP_MAYOR there are still some undug ro...   \n",
       "6   This road is freshly done today. Let's see how...   \n",
       "7   @chairmanbwssb Tushar sir,you always responded...   \n",
       "8   Board exams hv started and state govt has also...   \n",
       "9   @onlineBESCOM ,@mdbescom ,@PiyushGoyal ,@BSYBJ...   \n",
       "10  @BBMPCOMM bbmp toilet situation next to jyoti ...   \n",
       "11  3/3 if this situation, I dread to think what h...   \n",
       "12  2/3 When the AEE of Bwssb was contacted - his ...   \n",
       "13  @chairmanbwssb 1/3 Most of Koramangala has bee...   \n",
       "14  #BBMP #BWSSB WAKE UP!!!!!@nitin_gadkari @CMofK...   \n",
       "15  Called bwssb helpline. Vidya of helpline had n...   \n",
       "16  Request BWSSB to Please do take some action im...   \n",
       "17  Attention BWSSB, this is to bring to your kind...   \n",
       "18  If consider Since 2000,Amount investd by #BBMP...   \n",
       "19  BWSSB &amp; BBMP in a joint venture is mining ...   \n",
       "\n",
       "                        Date         Username  \\\n",
       "0  2020-01-31 17:25:11+00:00       mahesh3028   \n",
       "1  2020-09-01 15:45:00+00:00     SamsungIndia   \n",
       "2  2020-01-31 17:04:19+00:00   rajmalhotrasid   \n",
       "3  2020-01-31 16:17:24+00:00  Viswana70378552   \n",
       "4  2020-01-31 16:17:06+00:00     SelfDoubtist   \n",
       "5  2020-01-31 14:55:16+00:00      NehaaMittal   \n",
       "6  2020-01-31 14:45:40+00:00          abezack   \n",
       "7  2020-01-31 14:40:26+00:00        kdevforum   \n",
       "8  2020-01-31 14:31:04+00:00  Navneet11659347   \n",
       "9  2020-01-31 14:31:03+00:00  Navneet11659347   \n",
       "10 2020-01-31 12:02:21+00:00       gopi_hegde   \n",
       "11 2020-01-31 11:47:20+00:00   Kora_prapancha   \n",
       "12 2020-01-31 11:39:01+00:00   Kora_prapancha   \n",
       "13 2020-01-31 11:36:30+00:00   Kora_prapancha   \n",
       "14 2020-01-31 09:04:36+00:00        nehasippy   \n",
       "15 2020-01-31 08:54:14+00:00       bnithin123   \n",
       "16 2020-01-31 08:49:08+00:00  JohnathanSindhu   \n",
       "17 2020-01-31 08:49:07+00:00  JohnathanSindhu   \n",
       "18 2020-01-31 07:56:22+00:00       SridharDPS   \n",
       "19 2020-01-31 07:04:38+00:00        Harsha_sg   \n",
       "\n",
       "                                             Hashtags  \n",
       "0                                                      \n",
       "1                              #GalaxyZFold2 #Samsung  \n",
       "2                             #Bengaluru #bwssb #BBMP  \n",
       "3                                                      \n",
       "4                                              #BWSSB  \n",
       "5                                               #BBMP  \n",
       "6                                                      \n",
       "7                           #Bellandur #MoteraStadium  \n",
       "8                                                      \n",
       "9                                                      \n",
       "10                                                     \n",
       "11                                                     \n",
       "12                                                     \n",
       "13                                                     \n",
       "14                                       #BBMP #BWSSB  \n",
       "15                                                     \n",
       "16                                                     \n",
       "17                                                     \n",
       "18  #BBMP #BWSSB #Singapore #Bengaluru #Infrastruc...  \n",
       "19                                                     "
      ]
     },
     "execution_count": 10,
     "metadata": {},
     "output_type": "execute_result"
    }
   ],
   "source": [
    "df.head(20)"
   ]
  },
  {
   "cell_type": "code",
   "execution_count": 11,
   "metadata": {},
   "outputs": [
    {
     "data": {
      "text/plain": [
       "2000"
      ]
     },
     "execution_count": 11,
     "metadata": {},
     "output_type": "execute_result"
    }
   ],
   "source": [
    "len(df)"
   ]
  },
  {
   "cell_type": "code",
   "execution_count": 12,
   "metadata": {},
   "outputs": [],
   "source": [
    "df.to_csv(\"BWSSBData.csv\")"
   ]
  },
  {
   "cell_type": "code",
   "execution_count": null,
   "metadata": {},
   "outputs": [],
   "source": []
  }
 ],
 "metadata": {
  "kernelspec": {
   "display_name": "Python 3.7.0 64-bit",
   "language": "python",
   "name": "python37064bit1d987c35025341e2aefe788fd3b05888"
  },
  "language_info": {
   "codemirror_mode": {
    "name": "ipython",
    "version": 3
   },
   "file_extension": ".py",
   "mimetype": "text/x-python",
   "name": "python",
   "nbconvert_exporter": "python",
   "pygments_lexer": "ipython3",
   "version": "3.7.6"
  }
 },
 "nbformat": 4,
 "nbformat_minor": 2
}
