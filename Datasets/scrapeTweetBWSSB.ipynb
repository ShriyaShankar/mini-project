{
 "metadata": {
  "language_info": {
   "codemirror_mode": {
    "name": "ipython",
    "version": 3
   },
   "file_extension": ".py",
   "mimetype": "text/x-python",
   "name": "python",
   "nbconvert_exporter": "python",
   "pygments_lexer": "ipython3",
   "version": "3.7.6-final"
  },
  "orig_nbformat": 2,
  "kernelspec": {
   "name": "python_defaultSpec_1599647111819",
   "display_name": "Python 3.7.6 64-bit ('base': conda)"
  }
 },
 "nbformat": 4,
 "nbformat_minor": 2,
 "cells": [
  {
   "cell_type": "markdown",
   "metadata": {},
   "source": [
    "# Data Collection"
   ]
  },
  {
   "cell_type": "markdown",
   "metadata": {},
   "source": [
    "## Category: i) Water, ii) Sewage"
   ]
  },
  {
   "cell_type": "code",
   "execution_count": 1,
   "metadata": {},
   "outputs": [],
   "source": [
    "import GetOldTweets3 as got\n",
    "import pandas as pd \n",
    "import numpy as np \n",
    "import os"
   ]
  },
  {
   "cell_type": "markdown",
   "metadata": {},
   "source": [
    "### Sewage"
   ]
  },
  {
   "cell_type": "code",
   "execution_count": 6,
   "metadata": {},
   "outputs": [],
   "source": [
    "text_queries = \"'BWSSB\"#' AND 'Sewage'\"\n",
    "max_count = 2000\n",
    "location = \"'Bengaluru' OR 'Bangalore'\"\n",
    "language = \"english\"\n",
    "end_date = \"2020-02-01\""
   ]
  },
  {
   "cell_type": "code",
   "execution_count": 7,
   "metadata": {},
   "outputs": [],
   "source": [
    "tweetCriteria = got.manager.TweetCriteria().setQuerySearch(text_queries)\\\n",
    "                .setUntil(end_date).setLang(language).setMaxTweets(max_count).setNear(location)"
   ]
  },
  {
   "cell_type": "code",
   "execution_count": 8,
   "metadata": {},
   "outputs": [],
   "source": [
    "tweets = got.manager.TweetManager.getTweets(tweetCriteria)"
   ]
  },
  {
   "cell_type": "code",
   "execution_count": 9,
   "metadata": {},
   "outputs": [],
   "source": [
    "extracted_tweet = [[tweet.text,tweet.date,tweet.username,tweet.hashtags] for tweet in tweets]\n",
    "df = pd.DataFrame(extracted_tweet,columns=[\"Tweet\",\"Date\",\"Username\",\"Hashtags\"])"
   ]
  },
  {
   "cell_type": "code",
   "execution_count": 10,
   "metadata": {},
   "outputs": [
    {
     "output_type": "execute_result",
     "data": {
      "text/plain": "                                                Tweet  \\\n0   You can't clean Bangalore as there's no proper...   \n1   The future is now. Get ready for #GalaxyZFold2...   \n2   @bwssbchairman @chairmanbwssb @BBMPCOMM @PCMoh...   \n3   Dy cm sir, basic steps- till metro stop new of...   \n4   #BWSSB has developed patented tech for self -r...   \n5   Dear @BBMP_MAYOR there are still some undug ro...   \n6   This road is freshly done today. Let's see how...   \n7   @chairmanbwssb Tushar sir,you always responded...   \n8   Board exams hv started and state govt has also...   \n9   @onlineBESCOM ,@mdbescom ,@PiyushGoyal ,@BSYBJ...   \n10  @BBMPCOMM bbmp toilet situation next to jyoti ...   \n11  3/3 if this situation, I dread to think what h...   \n12  2/3 When the AEE of Bwssb was contacted - his ...   \n13  @chairmanbwssb 1/3 Most of Koramangala has bee...   \n14  #BBMP #BWSSB WAKE UP!!!!!@nitin_gadkari @CMofK...   \n15  Called bwssb helpline. Vidya of helpline had n...   \n16  Request BWSSB to Please do take some action im...   \n17  Attention BWSSB, this is to bring to your kind...   \n18  If consider Since 2000,Amount investd by #BBMP...   \n19  BWSSB &amp; BBMP in a joint venture is mining ...   \n\n                        Date         Username  \\\n0  2020-01-31 17:25:11+00:00       mahesh3028   \n1  2020-09-01 15:45:00+00:00     SamsungIndia   \n2  2020-01-31 17:04:19+00:00   rajmalhotrasid   \n3  2020-01-31 16:17:24+00:00  Viswana70378552   \n4  2020-01-31 16:17:06+00:00     SelfDoubtist   \n5  2020-01-31 14:55:16+00:00      NehaaMittal   \n6  2020-01-31 14:45:40+00:00          abezack   \n7  2020-01-31 14:40:26+00:00        kdevforum   \n8  2020-01-31 14:31:04+00:00  Navneet11659347   \n9  2020-01-31 14:31:03+00:00  Navneet11659347   \n10 2020-01-31 12:02:21+00:00       gopi_hegde   \n11 2020-01-31 11:47:20+00:00   Kora_prapancha   \n12 2020-01-31 11:39:01+00:00   Kora_prapancha   \n13 2020-01-31 11:36:30+00:00   Kora_prapancha   \n14 2020-01-31 09:04:36+00:00        nehasippy   \n15 2020-01-31 08:54:14+00:00       bnithin123   \n16 2020-01-31 08:49:08+00:00  JohnathanSindhu   \n17 2020-01-31 08:49:07+00:00  JohnathanSindhu   \n18 2020-01-31 07:56:22+00:00       SridharDPS   \n19 2020-01-31 07:04:38+00:00        Harsha_sg   \n\n                                             Hashtags  \n0                                                      \n1                              #GalaxyZFold2 #Samsung  \n2                             #Bengaluru #bwssb #BBMP  \n3                                                      \n4                                              #BWSSB  \n5                                               #BBMP  \n6                                                      \n7                           #Bellandur #MoteraStadium  \n8                                                      \n9                                                      \n10                                                     \n11                                                     \n12                                                     \n13                                                     \n14                                       #BBMP #BWSSB  \n15                                                     \n16                                                     \n17                                                     \n18  #BBMP #BWSSB #Singapore #Bengaluru #Infrastruc...  \n19                                                     ",
      "text/html": "<div>\n<style scoped>\n    .dataframe tbody tr th:only-of-type {\n        vertical-align: middle;\n    }\n\n    .dataframe tbody tr th {\n        vertical-align: top;\n    }\n\n    .dataframe thead th {\n        text-align: right;\n    }\n</style>\n<table border=\"1\" class=\"dataframe\">\n  <thead>\n    <tr style=\"text-align: right;\">\n      <th></th>\n      <th>Tweet</th>\n      <th>Date</th>\n      <th>Username</th>\n      <th>Hashtags</th>\n    </tr>\n  </thead>\n  <tbody>\n    <tr>\n      <th>0</th>\n      <td>You can't clean Bangalore as there's no proper...</td>\n      <td>2020-01-31 17:25:11+00:00</td>\n      <td>mahesh3028</td>\n      <td></td>\n    </tr>\n    <tr>\n      <th>1</th>\n      <td>The future is now. Get ready for #GalaxyZFold2...</td>\n      <td>2020-09-01 15:45:00+00:00</td>\n      <td>SamsungIndia</td>\n      <td>#GalaxyZFold2 #Samsung</td>\n    </tr>\n    <tr>\n      <th>2</th>\n      <td>@bwssbchairman @chairmanbwssb @BBMPCOMM @PCMoh...</td>\n      <td>2020-01-31 17:04:19+00:00</td>\n      <td>rajmalhotrasid</td>\n      <td>#Bengaluru #bwssb #BBMP</td>\n    </tr>\n    <tr>\n      <th>3</th>\n      <td>Dy cm sir, basic steps- till metro stop new of...</td>\n      <td>2020-01-31 16:17:24+00:00</td>\n      <td>Viswana70378552</td>\n      <td></td>\n    </tr>\n    <tr>\n      <th>4</th>\n      <td>#BWSSB has developed patented tech for self -r...</td>\n      <td>2020-01-31 16:17:06+00:00</td>\n      <td>SelfDoubtist</td>\n      <td>#BWSSB</td>\n    </tr>\n    <tr>\n      <th>5</th>\n      <td>Dear @BBMP_MAYOR there are still some undug ro...</td>\n      <td>2020-01-31 14:55:16+00:00</td>\n      <td>NehaaMittal</td>\n      <td>#BBMP</td>\n    </tr>\n    <tr>\n      <th>6</th>\n      <td>This road is freshly done today. Let's see how...</td>\n      <td>2020-01-31 14:45:40+00:00</td>\n      <td>abezack</td>\n      <td></td>\n    </tr>\n    <tr>\n      <th>7</th>\n      <td>@chairmanbwssb Tushar sir,you always responded...</td>\n      <td>2020-01-31 14:40:26+00:00</td>\n      <td>kdevforum</td>\n      <td>#Bellandur #MoteraStadium</td>\n    </tr>\n    <tr>\n      <th>8</th>\n      <td>Board exams hv started and state govt has also...</td>\n      <td>2020-01-31 14:31:04+00:00</td>\n      <td>Navneet11659347</td>\n      <td></td>\n    </tr>\n    <tr>\n      <th>9</th>\n      <td>@onlineBESCOM ,@mdbescom ,@PiyushGoyal ,@BSYBJ...</td>\n      <td>2020-01-31 14:31:03+00:00</td>\n      <td>Navneet11659347</td>\n      <td></td>\n    </tr>\n    <tr>\n      <th>10</th>\n      <td>@BBMPCOMM bbmp toilet situation next to jyoti ...</td>\n      <td>2020-01-31 12:02:21+00:00</td>\n      <td>gopi_hegde</td>\n      <td></td>\n    </tr>\n    <tr>\n      <th>11</th>\n      <td>3/3 if this situation, I dread to think what h...</td>\n      <td>2020-01-31 11:47:20+00:00</td>\n      <td>Kora_prapancha</td>\n      <td></td>\n    </tr>\n    <tr>\n      <th>12</th>\n      <td>2/3 When the AEE of Bwssb was contacted - his ...</td>\n      <td>2020-01-31 11:39:01+00:00</td>\n      <td>Kora_prapancha</td>\n      <td></td>\n    </tr>\n    <tr>\n      <th>13</th>\n      <td>@chairmanbwssb 1/3 Most of Koramangala has bee...</td>\n      <td>2020-01-31 11:36:30+00:00</td>\n      <td>Kora_prapancha</td>\n      <td></td>\n    </tr>\n    <tr>\n      <th>14</th>\n      <td>#BBMP #BWSSB WAKE UP!!!!!@nitin_gadkari @CMofK...</td>\n      <td>2020-01-31 09:04:36+00:00</td>\n      <td>nehasippy</td>\n      <td>#BBMP #BWSSB</td>\n    </tr>\n    <tr>\n      <th>15</th>\n      <td>Called bwssb helpline. Vidya of helpline had n...</td>\n      <td>2020-01-31 08:54:14+00:00</td>\n      <td>bnithin123</td>\n      <td></td>\n    </tr>\n    <tr>\n      <th>16</th>\n      <td>Request BWSSB to Please do take some action im...</td>\n      <td>2020-01-31 08:49:08+00:00</td>\n      <td>JohnathanSindhu</td>\n      <td></td>\n    </tr>\n    <tr>\n      <th>17</th>\n      <td>Attention BWSSB, this is to bring to your kind...</td>\n      <td>2020-01-31 08:49:07+00:00</td>\n      <td>JohnathanSindhu</td>\n      <td></td>\n    </tr>\n    <tr>\n      <th>18</th>\n      <td>If consider Since 2000,Amount investd by #BBMP...</td>\n      <td>2020-01-31 07:56:22+00:00</td>\n      <td>SridharDPS</td>\n      <td>#BBMP #BWSSB #Singapore #Bengaluru #Infrastruc...</td>\n    </tr>\n    <tr>\n      <th>19</th>\n      <td>BWSSB &amp;amp; BBMP in a joint venture is mining ...</td>\n      <td>2020-01-31 07:04:38+00:00</td>\n      <td>Harsha_sg</td>\n      <td></td>\n    </tr>\n  </tbody>\n</table>\n</div>"
     },
     "metadata": {},
     "execution_count": 10
    }
   ],
   "source": [
    "df.head(20)"
   ]
  },
  {
   "cell_type": "code",
   "execution_count": 11,
   "metadata": {},
   "outputs": [
    {
     "output_type": "execute_result",
     "data": {
      "text/plain": "2000"
     },
     "metadata": {},
     "execution_count": 11
    }
   ],
   "source": [
    "len(df)"
   ]
  },
  {
   "cell_type": "code",
   "execution_count": 12,
   "metadata": {},
   "outputs": [],
   "source": [
    "df.to_csv(\"BWSSBData.csv\")"
   ]
  },
  {
   "cell_type": "code",
   "execution_count": null,
   "metadata": {},
   "outputs": [],
   "source": []
  }
 ]
}