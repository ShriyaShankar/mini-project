{
 "cells": [
  {
   "cell_type": "code",
   "execution_count": 1,
   "metadata": {},
   "outputs": [
    {
     "output_type": "execute_result",
     "data": {
      "text/plain": "\"\\ntext_query = 'BWSSB'\\ncount = 100\\n\\ntweet_criteria = got.manager.TweetCriteria().setQuerySearch(text_query).setMaxTweets(count)\\n\\ntweets = got.manager.TweetManager.getTweets(tweet_criteria)\\n#print(tweets)\\nreqd_tweets = [[tweet.date, tweet.text] for tweet in tweets]\\n#print(reqd_tweets)\\nbwssb = pd.DataFrame(reqd_tweets)\""
     },
     "metadata": {},
     "execution_count": 1
    }
   ],
   "source": [
    "import GetOldTweets3 as got\n",
    "import pandas as pd\n",
    "import numpy as np\n",
    "import os\n",
    "'''\n",
    "text_query = 'BWSSB'\n",
    "count = 100\n",
    "\n",
    "tweet_criteria = got.manager.TweetCriteria().setQuerySearch(text_query).setMaxTweets(count)\n",
    "\n",
    "tweets = got.manager.TweetManager.getTweets(tweet_criteria)\n",
    "#print(tweets)\n",
    "reqd_tweets = [[tweet.date, tweet.text] for tweet in tweets]\n",
    "#print(reqd_tweets)\n",
    "bwssb = pd.DataFrame(reqd_tweets)'''"
   ]
  },
  {
   "cell_type": "code",
   "execution_count": 19,
   "metadata": {},
   "outputs": [],
   "source": [
    "def scrapeTweets(text_queries: list, rel_cond: str,end_date: str, csv_name: str,max_tweets: int,append: str):\n",
    "    if rel_cond != None:\n",
    "        condition  = ' '+rel_cond+' '\n",
    "        searchQueries = condition.join(text_queries)\n",
    "    else:\n",
    "        searchQueries = text_queries[0]\n",
    "    print(searchQueries)\n",
    "\n",
    "    print(\"Is this the right query? [Y/N]\", end=' ')\n",
    "    ans = input()\n",
    "    \n",
    "    if ans =='N':\n",
    "        return None\n",
    "    \n",
    "    location = \"'Bangalore' OR 'Bengaluru'\"\n",
    "    language = \"english\"\n",
    "\n",
    "    tweetCriteria = got.manager.TweetCriteria().setQuerySearch(searchQueries).\\\n",
    "                    setUntil(end_date).setLang(language).setNear(location).setMaxTweets(max_tweets)\n",
    "    \n",
    "    tweets = got.manager.TweetManager.getTweets(tweetCriteria)\n",
    "\n",
    "    extractedTweets = [[tweet.text,tweet.date,tweet.username,tweet.hashtags] for tweet in tweets]\n",
    "    df = pd.DataFrame(extractedTweets,columns=[\"Tweet\",\"Date\",\"Username\",\"Hashtags\"])\n",
    "    df.to_csv(csv_name)\n",
    "    return df"
   ]
  },
  {
   "cell_type": "code",
   "execution_count": 20,
   "metadata": {
    "tags": []
   },
   "outputs": [
    {
     "output_type": "stream",
     "name": "stdout",
     "text": "'BBMP' AND 'Pothole'\nIs this the right query? [Y/N]"
    }
   ],
   "source": [
    "df = scrapeTweets([\"'BBMP'\",\"'Pothole'\"],\"AND\",\"2020-02-01\",\"potholeData.csv\",100,\"No\")"
   ]
  },
  {
   "cell_type": "code",
   "execution_count": 21,
   "metadata": {
    "tags": []
   },
   "outputs": [
    {
     "output_type": "stream",
     "name": "stdout",
     "text": "None\n"
    }
   ],
   "source": [
    "try:\n",
    "    df.head()\n",
    "except:\n",
    "    print(df)"
   ]
  },
  {
   "cell_type": "code",
   "execution_count": 22,
   "metadata": {
    "tags": []
   },
   "outputs": [
    {
     "output_type": "stream",
     "name": "stdout",
     "text": "BESCOM\nIs this the right query? [Y/N]"
    }
   ],
   "source": [
    "df1 = scrapeTweets([\"BESCOM\"],None,\"2020-02-01\",\"idkman.csv\",10,\"No\")"
   ]
  },
  {
   "cell_type": "code",
   "execution_count": 23,
   "metadata": {},
   "outputs": [
    {
     "output_type": "execute_result",
     "data": {
      "text/plain": "                                               Tweet  \\\n0  Dear Consumer, In reference to your post, kind...   \n1  The future is now. Get ready for #GalaxyZFold2...   \n2  Dear Consumer, In reference to your post, We h...   \n3  @NammaBESCOM Dear Consumer, Thank you for cont...   \n4  Dear Consumer, As of now there is an interrupt...   \n\n                       Date      Username                Hashtags  \n0 2020-01-31 23:42:18+00:00   NammaBESCOM                          \n1 2020-09-01 15:45:00+00:00  SamsungIndia  #GalaxyZFold2 #Samsung  \n2 2020-01-31 20:40:21+00:00   NammaBESCOM                          \n3 2020-01-31 20:15:20+00:00   jasmine4891                          \n4 2020-01-31 19:46:20+00:00   NammaBESCOM                          ",
      "text/html": "<div>\n<style scoped>\n    .dataframe tbody tr th:only-of-type {\n        vertical-align: middle;\n    }\n\n    .dataframe tbody tr th {\n        vertical-align: top;\n    }\n\n    .dataframe thead th {\n        text-align: right;\n    }\n</style>\n<table border=\"1\" class=\"dataframe\">\n  <thead>\n    <tr style=\"text-align: right;\">\n      <th></th>\n      <th>Tweet</th>\n      <th>Date</th>\n      <th>Username</th>\n      <th>Hashtags</th>\n    </tr>\n  </thead>\n  <tbody>\n    <tr>\n      <th>0</th>\n      <td>Dear Consumer, In reference to your post, kind...</td>\n      <td>2020-01-31 23:42:18+00:00</td>\n      <td>NammaBESCOM</td>\n      <td></td>\n    </tr>\n    <tr>\n      <th>1</th>\n      <td>The future is now. Get ready for #GalaxyZFold2...</td>\n      <td>2020-09-01 15:45:00+00:00</td>\n      <td>SamsungIndia</td>\n      <td>#GalaxyZFold2 #Samsung</td>\n    </tr>\n    <tr>\n      <th>2</th>\n      <td>Dear Consumer, In reference to your post, We h...</td>\n      <td>2020-01-31 20:40:21+00:00</td>\n      <td>NammaBESCOM</td>\n      <td></td>\n    </tr>\n    <tr>\n      <th>3</th>\n      <td>@NammaBESCOM Dear Consumer, Thank you for cont...</td>\n      <td>2020-01-31 20:15:20+00:00</td>\n      <td>jasmine4891</td>\n      <td></td>\n    </tr>\n    <tr>\n      <th>4</th>\n      <td>Dear Consumer, As of now there is an interrupt...</td>\n      <td>2020-01-31 19:46:20+00:00</td>\n      <td>NammaBESCOM</td>\n      <td></td>\n    </tr>\n  </tbody>\n</table>\n</div>"
     },
     "metadata": {},
     "execution_count": 23
    }
   ],
   "source": [
    "df1.head()"
   ]
  },
  {
   "cell_type": "code",
   "execution_count": null,
   "metadata": {},
   "outputs": [],
   "source": []
  },
  {
   "cell_type": "code",
   "execution_count": null,
   "metadata": {},
   "outputs": [],
   "source": []
  }
 ],
 "metadata": {
  "kernelspec": {
   "display_name": "Python 3",
   "language": "python",
   "name": "python3"
  },
  "language_info": {
   "codemirror_mode": {
    "name": "ipython",
    "version": 3
   },
   "file_extension": ".py",
   "mimetype": "text/x-python",
   "name": "python",
   "nbconvert_exporter": "python",
   "pygments_lexer": "ipython3",
   "version": "3.7.6-final"
  }
 },
 "nbformat": 4,
 "nbformat_minor": 4
}