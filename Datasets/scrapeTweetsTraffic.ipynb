{
 "cells": [
  {
   "cell_type": "code",
   "execution_count": 1,
   "metadata": {},
   "outputs": [],
   "source": [
    "import GetOldTweets3 as got\n",
    "import pandas as pd \n",
    "import numpy as np\n",
    "import os"
   ]
  },
  {
   "cell_type": "code",
   "execution_count": null,
   "metadata": {},
   "outputs": [],
   "source": [
    "text_queries = \"'traffic' AND 'road' AND 'bangalore'\"\n",
    "max_tweets = 1000\n",
    "start_date = \"2014-01-01\"\n",
    "end_date = \"2020-02-01\"\n",
    "location = \"'Bengaluru' OR 'Bangalore'\"\n",
    "language = \"english\"\n",
    "\n",
    "tweetCriteria = got.manager.TweetCriteria().setQuerySearch(text_queries).setSince(start_date).\\\n",
    "                setUntil(end_date).setMaxTweets(max_tweets).setLang(language)\n",
    "tweets = got.manager.TweetManager.getTweets(tweetCriteria)\n",
    "extracted_tweet = [[tweet.text,tweet.date,tweet.username,tweet.hashtags] for tweet in tweets]\n",
    "df = pd.DataFrame(extracted_tweet,columns=[\"Tweet\",\"Date\",\"Username\",\"Hashtags\"])"
   ]
  },
  {
   "cell_type": "code",
   "execution_count": 10,
   "metadata": {},
   "outputs": [],
   "source": [
    "df.to_csv('trafficDataset.csv')"
   ]
  },
  {
   "cell_type": "code",
   "execution_count": null,
   "metadata": {},
   "outputs": [],
   "source": []
  }
 ],
 "metadata": {
  "kernelspec": {
   "display_name": "Python 3",
   "language": "python",
   "name": "python3"
  },
  "language_info": {
   "codemirror_mode": {
    "name": "ipython",
    "version": 3
   },
   "file_extension": ".py",
   "mimetype": "text/x-python",
   "name": "python",
   "nbconvert_exporter": "python",
   "pygments_lexer": "ipython3",
   "version": "3.8.2"
  }
 },
 "nbformat": 4,
 "nbformat_minor": 4
}
