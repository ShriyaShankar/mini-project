{
 "cells": [
  {
   "cell_type": "code",
   "execution_count": 1,
   "metadata": {},
   "outputs": [],
   "source": [
    "import GetOldTweets3 as got\n",
    "import pandas as pd\n",
    "\n",
    "text_query = 'BWSSB'\n",
    "count = 100\n",
    "\n",
    "tweet_criteria = got.manager.TweetCriteria().setQuerySearch(text_query).setMaxTweets(count)\n",
    "\n",
    "tweets = got.manager.TweetManager.getTweets(tweet_criteria)\n",
    "#print(tweets)\n",
    "reqd_tweets = [[tweet.date, tweet.text] for tweet in tweets]\n",
    "#print(reqd_tweets)\n",
    "bwssb = pd.DataFrame(reqd_tweets)"
   ]
  },
  {
   "cell_type": "code",
   "execution_count": null,
   "metadata": {},
   "outputs": [],
   "source": []
  },
  {
   "cell_type": "code",
   "execution_count": null,
   "metadata": {},
   "outputs": [],
   "source": []
  }
 ],
 "metadata": {
  "kernelspec": {
   "display_name": "Python 3",
   "language": "python",
   "name": "python3"
  },
  "language_info": {
   "codemirror_mode": {
    "name": "ipython",
    "version": 3
   },
   "file_extension": ".py",
   "mimetype": "text/x-python",
   "name": "python",
   "nbconvert_exporter": "python",
   "pygments_lexer": "ipython3",
   "version": "3.8.2"
  }
 },
 "nbformat": 4,
 "nbformat_minor": 4
}
