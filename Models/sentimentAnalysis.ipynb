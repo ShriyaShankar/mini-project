{
 "metadata": {
  "language_info": {
   "codemirror_mode": {
    "name": "ipython",
    "version": 3
   },
   "file_extension": ".py",
   "mimetype": "text/x-python",
   "name": "python",
   "nbconvert_exporter": "python",
   "pygments_lexer": "ipython3",
   "version": "3.7.6-final"
  },
  "orig_nbformat": 2,
  "kernelspec": {
   "name": "python3",
   "display_name": "Python 3"
  }
 },
 "nbformat": 4,
 "nbformat_minor": 2,
 "cells": [
  {
   "cell_type": "code",
   "execution_count": 4,
   "metadata": {},
   "outputs": [],
   "source": [
    "# !pip install textblob\n",
    "# !pip install vaderSentiment"
   ]
  },
  {
   "cell_type": "code",
   "execution_count": 1,
   "metadata": {},
   "outputs": [
    {
     "output_type": "stream",
     "name": "stdout",
     "text": [
      "Unnamed: 0     32120\nindex          32120\ndescription    32120\ncategory       17120\ncivic_issue    32120\ndtype: int64\n"
     ]
    }
   ],
   "source": [
    "from textblob import TextBlob\n",
    "import pandas as pd \n",
    "import numpy as np \n",
    "import matplotlib.pyplot as plt \n",
    "\n",
    "dataset = pd.read_csv(\"finalData.csv\")\n",
    "print(dataset.count())\n",
    "# dataset = dataset[['description']]"
   ]
  },
  {
   "cell_type": "code",
   "execution_count": 2,
   "metadata": {},
   "outputs": [],
   "source": [
    "def sentiment_analysis(dataset):\n",
    "    def getSubjectivity(text):\n",
    "        return TextBlob(text).sentiment.subjectivity\n",
    "# Create a function to get the polarity\n",
    "    def getPolarity(text):\n",
    "        return TextBlob(text).sentiment.polarity\n",
    "\n",
    "    def getAnalysis(score):\n",
    "        if score < 0.3:\n",
    "            return 'Complaint'\n",
    "        elif score > 0.3 and score < 0.4:\n",
    "            return 'Neutral Feedback'\n",
    "        else:\n",
    "            return 'Compliment'\n",
    "\n",
    "    dataset['Polarity'] = dataset.description.apply(getPolarity)\n",
    "    dataset['Sentiment'] = dataset['Polarity'].apply(getAnalysis )\n",
    "    return dataset\n",
    "\n",
    "df = sentiment_analysis(dataset)\n",
    "#  if score < 0:\n",
    "#   return ‘Negative’\n",
    "#  elif score == 0:\n",
    "#   return ‘Neutral’\n",
    "#  else:\n",
    "#   return ‘Positive’"
   ]
  },
  {
   "cell_type": "code",
   "execution_count": 3,
   "metadata": {},
   "outputs": [
    {
     "output_type": "execute_result",
     "data": {
      "text/plain": [
       "   Unnamed: 0  index                                        description  \\\n",
       "0           0      1                          Garbage behind the temple   \n",
       "1           1      2                                      Air pollution   \n",
       "2           2      3                            Air pollution in hebbal   \n",
       "3           3      4                         Garbage is dumped near BES   \n",
       "4           4      5  Leaf and garbage burning on Shakthi Ganapathi ...   \n",
       "5           5      6  There is a lot of garbage dump in and around t...   \n",
       "6           6      7  Replace broken streetlight. Complaint #5 about...   \n",
       "7           7      8  Red Matiz parked on the footpath for more than...   \n",
       "8           8      9  Cars have been using the footpath as a parking...   \n",
       "9           9     10  Congestion everyday and at all times due to im...   \n",
       "\n",
       "          category  civic_issue  Polarity  Sentiment  \n",
       "0    Waste/Garbage            1 -0.400000  Complaint  \n",
       "1              Air            1  0.000000  Complaint  \n",
       "2              Air            1  0.000000  Complaint  \n",
       "3    Waste/Garbage            1  0.100000  Complaint  \n",
       "4              Air            1 -0.050000  Complaint  \n",
       "5    Waste/Garbage            1 -0.250000  Complaint  \n",
       "6     Streetlights            1 -0.233333  Complaint  \n",
       "7  Traffic/Parking            1  0.150000  Complaint  \n",
       "8  Traffic/Parking            1 -0.125000  Complaint  \n",
       "9  Traffic/Parking            1 -0.162500  Complaint  "
      ],
      "text/html": "<div>\n<style scoped>\n    .dataframe tbody tr th:only-of-type {\n        vertical-align: middle;\n    }\n\n    .dataframe tbody tr th {\n        vertical-align: top;\n    }\n\n    .dataframe thead th {\n        text-align: right;\n    }\n</style>\n<table border=\"1\" class=\"dataframe\">\n  <thead>\n    <tr style=\"text-align: right;\">\n      <th></th>\n      <th>Unnamed: 0</th>\n      <th>index</th>\n      <th>description</th>\n      <th>category</th>\n      <th>civic_issue</th>\n      <th>Polarity</th>\n      <th>Sentiment</th>\n    </tr>\n  </thead>\n  <tbody>\n    <tr>\n      <th>0</th>\n      <td>0</td>\n      <td>1</td>\n      <td>Garbage behind the temple</td>\n      <td>Waste/Garbage</td>\n      <td>1</td>\n      <td>-0.400000</td>\n      <td>Complaint</td>\n    </tr>\n    <tr>\n      <th>1</th>\n      <td>1</td>\n      <td>2</td>\n      <td>Air pollution</td>\n      <td>Air</td>\n      <td>1</td>\n      <td>0.000000</td>\n      <td>Complaint</td>\n    </tr>\n    <tr>\n      <th>2</th>\n      <td>2</td>\n      <td>3</td>\n      <td>Air pollution in hebbal</td>\n      <td>Air</td>\n      <td>1</td>\n      <td>0.000000</td>\n      <td>Complaint</td>\n    </tr>\n    <tr>\n      <th>3</th>\n      <td>3</td>\n      <td>4</td>\n      <td>Garbage is dumped near BES</td>\n      <td>Waste/Garbage</td>\n      <td>1</td>\n      <td>0.100000</td>\n      <td>Complaint</td>\n    </tr>\n    <tr>\n      <th>4</th>\n      <td>4</td>\n      <td>5</td>\n      <td>Leaf and garbage burning on Shakthi Ganapathi ...</td>\n      <td>Air</td>\n      <td>1</td>\n      <td>-0.050000</td>\n      <td>Complaint</td>\n    </tr>\n    <tr>\n      <th>5</th>\n      <td>5</td>\n      <td>6</td>\n      <td>There is a lot of garbage dump in and around t...</td>\n      <td>Waste/Garbage</td>\n      <td>1</td>\n      <td>-0.250000</td>\n      <td>Complaint</td>\n    </tr>\n    <tr>\n      <th>6</th>\n      <td>6</td>\n      <td>7</td>\n      <td>Replace broken streetlight. Complaint #5 about...</td>\n      <td>Streetlights</td>\n      <td>1</td>\n      <td>-0.233333</td>\n      <td>Complaint</td>\n    </tr>\n    <tr>\n      <th>7</th>\n      <td>7</td>\n      <td>8</td>\n      <td>Red Matiz parked on the footpath for more than...</td>\n      <td>Traffic/Parking</td>\n      <td>1</td>\n      <td>0.150000</td>\n      <td>Complaint</td>\n    </tr>\n    <tr>\n      <th>8</th>\n      <td>8</td>\n      <td>9</td>\n      <td>Cars have been using the footpath as a parking...</td>\n      <td>Traffic/Parking</td>\n      <td>1</td>\n      <td>-0.125000</td>\n      <td>Complaint</td>\n    </tr>\n    <tr>\n      <th>9</th>\n      <td>9</td>\n      <td>10</td>\n      <td>Congestion everyday and at all times due to im...</td>\n      <td>Traffic/Parking</td>\n      <td>1</td>\n      <td>-0.162500</td>\n      <td>Complaint</td>\n    </tr>\n  </tbody>\n</table>\n</div>"
     },
     "metadata": {},
     "execution_count": 3
    }
   ],
   "source": [
    "df.head(10)"
   ]
  },
  {
   "source": [
    "### Using VADERSentiment - Valence Aware Dictionary and sEntiment Reasoner"
   ],
   "cell_type": "markdown",
   "metadata": {}
  },
  {
   "cell_type": "code",
   "execution_count": 6,
   "metadata": {},
   "outputs": [
    {
     "output_type": "execute_result",
     "data": {
      "text/plain": [
       "   Unnamed: 0  index                                        description  \\\n",
       "0           0      1                          Garbage behind the temple   \n",
       "1           1      2                                      Air pollution   \n",
       "2           2      3                            Air pollution in hebbal   \n",
       "3           3      4                         Garbage is dumped near BES   \n",
       "4           4      5  Leaf and garbage burning on Shakthi Ganapathi ...   \n",
       "\n",
       "        category  civic_issue  Polarity  \\\n",
       "0  Waste/Garbage            1     -0.40   \n",
       "1            Air            1      0.00   \n",
       "2            Air            1      0.00   \n",
       "3  Waste/Garbage            1      0.10   \n",
       "4            Air            1     -0.05   \n",
       "\n",
       "                                           Sentiment  \n",
       "0  {'neg': 0.0, 'neu': 1.0, 'pos': 0.0, 'compound...  \n",
       "1  {'neg': 0.0, 'neu': 1.0, 'pos': 0.0, 'compound...  \n",
       "2  {'neg': 0.0, 'neu': 1.0, 'pos': 0.0, 'compound...  \n",
       "3  {'neg': 0.403, 'neu': 0.597, 'pos': 0.0, 'comp...  \n",
       "4  {'neg': 0.134, 'neu': 0.729, 'pos': 0.137, 'co...  "
      ],
      "text/html": "<div>\n<style scoped>\n    .dataframe tbody tr th:only-of-type {\n        vertical-align: middle;\n    }\n\n    .dataframe tbody tr th {\n        vertical-align: top;\n    }\n\n    .dataframe thead th {\n        text-align: right;\n    }\n</style>\n<table border=\"1\" class=\"dataframe\">\n  <thead>\n    <tr style=\"text-align: right;\">\n      <th></th>\n      <th>Unnamed: 0</th>\n      <th>index</th>\n      <th>description</th>\n      <th>category</th>\n      <th>civic_issue</th>\n      <th>Polarity</th>\n      <th>Sentiment</th>\n    </tr>\n  </thead>\n  <tbody>\n    <tr>\n      <th>0</th>\n      <td>0</td>\n      <td>1</td>\n      <td>Garbage behind the temple</td>\n      <td>Waste/Garbage</td>\n      <td>1</td>\n      <td>-0.40</td>\n      <td>{'neg': 0.0, 'neu': 1.0, 'pos': 0.0, 'compound...</td>\n    </tr>\n    <tr>\n      <th>1</th>\n      <td>1</td>\n      <td>2</td>\n      <td>Air pollution</td>\n      <td>Air</td>\n      <td>1</td>\n      <td>0.00</td>\n      <td>{'neg': 0.0, 'neu': 1.0, 'pos': 0.0, 'compound...</td>\n    </tr>\n    <tr>\n      <th>2</th>\n      <td>2</td>\n      <td>3</td>\n      <td>Air pollution in hebbal</td>\n      <td>Air</td>\n      <td>1</td>\n      <td>0.00</td>\n      <td>{'neg': 0.0, 'neu': 1.0, 'pos': 0.0, 'compound...</td>\n    </tr>\n    <tr>\n      <th>3</th>\n      <td>3</td>\n      <td>4</td>\n      <td>Garbage is dumped near BES</td>\n      <td>Waste/Garbage</td>\n      <td>1</td>\n      <td>0.10</td>\n      <td>{'neg': 0.403, 'neu': 0.597, 'pos': 0.0, 'comp...</td>\n    </tr>\n    <tr>\n      <th>4</th>\n      <td>4</td>\n      <td>5</td>\n      <td>Leaf and garbage burning on Shakthi Ganapathi ...</td>\n      <td>Air</td>\n      <td>1</td>\n      <td>-0.05</td>\n      <td>{'neg': 0.134, 'neu': 0.729, 'pos': 0.137, 'co...</td>\n    </tr>\n  </tbody>\n</table>\n</div>"
     },
     "metadata": {},
     "execution_count": 6
    }
   ],
   "source": [
    "from vaderSentiment.vaderSentiment import SentimentIntensityAnalyzer\n",
    "\n",
    "sentimentAnalyser = SentimentIntensityAnalyzer()\n",
    "\n",
    "def calculate_sentiment_analyser(text):    \n",
    "    return sentimentAnalyser.polarity_scores(text)\n",
    "\n",
    "df['Sentiment'] = df['description'].apply(calculate_sentiment_analyser)\n",
    "df.head()"
   ]
  },
  {
   "cell_type": "code",
   "execution_count": 16,
   "metadata": {},
   "outputs": [
    {
     "output_type": "execute_result",
     "data": {
      "text/plain": [
       "   Unnamed: 0  index                                        description  \\\n",
       "0           0      1                          Garbage behind the temple   \n",
       "1           1      2                                      Air pollution   \n",
       "2           2      3                            Air pollution in hebbal   \n",
       "3           3      4                         Garbage is dumped near BES   \n",
       "4           4      5  Leaf and garbage burning on Shakthi Ganapathi ...   \n",
       "\n",
       "        category  civic_issue  Polarity  \\\n",
       "0  Waste/Garbage            1     -0.40   \n",
       "1            Air            1      0.00   \n",
       "2            Air            1      0.00   \n",
       "3  Waste/Garbage            1      0.10   \n",
       "4            Air            1     -0.05   \n",
       "\n",
       "                                           Sentiment sentiment_score sentiment  \n",
       "0  {'neg': 0.0, 'neu': 1.0, 'pos': 0.0, 'compound...               0  Negative  \n",
       "1  {'neg': 0.0, 'neu': 1.0, 'pos': 0.0, 'compound...               0  Negative  \n",
       "2  {'neg': 0.0, 'neu': 1.0, 'pos': 0.0, 'compound...               0  Negative  \n",
       "3  {'neg': 0.403, 'neu': 0.597, 'pos': 0.0, 'comp...         -0.4019  Negative  \n",
       "4  {'neg': 0.134, 'neu': 0.729, 'pos': 0.137, 'co...           0.015  Negative  "
      ],
      "text/html": "<div>\n<style scoped>\n    .dataframe tbody tr th:only-of-type {\n        vertical-align: middle;\n    }\n\n    .dataframe tbody tr th {\n        vertical-align: top;\n    }\n\n    .dataframe thead th {\n        text-align: right;\n    }\n</style>\n<table border=\"1\" class=\"dataframe\">\n  <thead>\n    <tr style=\"text-align: right;\">\n      <th></th>\n      <th>Unnamed: 0</th>\n      <th>index</th>\n      <th>description</th>\n      <th>category</th>\n      <th>civic_issue</th>\n      <th>Polarity</th>\n      <th>Sentiment</th>\n      <th>sentiment_score</th>\n      <th>sentiment</th>\n    </tr>\n  </thead>\n  <tbody>\n    <tr>\n      <th>0</th>\n      <td>0</td>\n      <td>1</td>\n      <td>Garbage behind the temple</td>\n      <td>Waste/Garbage</td>\n      <td>1</td>\n      <td>-0.40</td>\n      <td>{'neg': 0.0, 'neu': 1.0, 'pos': 0.0, 'compound...</td>\n      <td>0</td>\n      <td>Negative</td>\n    </tr>\n    <tr>\n      <th>1</th>\n      <td>1</td>\n      <td>2</td>\n      <td>Air pollution</td>\n      <td>Air</td>\n      <td>1</td>\n      <td>0.00</td>\n      <td>{'neg': 0.0, 'neu': 1.0, 'pos': 0.0, 'compound...</td>\n      <td>0</td>\n      <td>Negative</td>\n    </tr>\n    <tr>\n      <th>2</th>\n      <td>2</td>\n      <td>3</td>\n      <td>Air pollution in hebbal</td>\n      <td>Air</td>\n      <td>1</td>\n      <td>0.00</td>\n      <td>{'neg': 0.0, 'neu': 1.0, 'pos': 0.0, 'compound...</td>\n      <td>0</td>\n      <td>Negative</td>\n    </tr>\n    <tr>\n      <th>3</th>\n      <td>3</td>\n      <td>4</td>\n      <td>Garbage is dumped near BES</td>\n      <td>Waste/Garbage</td>\n      <td>1</td>\n      <td>0.10</td>\n      <td>{'neg': 0.403, 'neu': 0.597, 'pos': 0.0, 'comp...</td>\n      <td>-0.4019</td>\n      <td>Negative</td>\n    </tr>\n    <tr>\n      <th>4</th>\n      <td>4</td>\n      <td>5</td>\n      <td>Leaf and garbage burning on Shakthi Ganapathi ...</td>\n      <td>Air</td>\n      <td>1</td>\n      <td>-0.05</td>\n      <td>{'neg': 0.134, 'neu': 0.729, 'pos': 0.137, 'co...</td>\n      <td>0.015</td>\n      <td>Negative</td>\n    </tr>\n  </tbody>\n</table>\n</div>"
     },
     "metadata": {},
     "execution_count": 16
    }
   ],
   "source": [
    "s = pd.DataFrame(index = range(0,len(df)),columns= ['compound_score','compound_score_sentiment'])\n",
    "\n",
    "for i in range(0,len(df)): \n",
    "  s['compound_score'][i] = df['Sentiment'][i]['compound']\n",
    "  \n",
    "  if (df['Sentiment'][i]['compound'] <= 0.05):\n",
    "    s['compound_score_sentiment'][i] = 'Negative'    \n",
    "  if (df['Sentiment'][i]['compound'] >= 0.25):\n",
    "    s['compound_score_sentiment'][i] = 'Positive'\n",
    "  if ((df['Sentiment'][i]['compound'] >= 0.05) & (df['Sentiment'][i]['compound'] <= 0.25)):\n",
    "    s['compound_score_sentiment'][i] = 'Neutral'\n",
    "    \n",
    "df['sentiment_score'] = s['compound_score']\n",
    "df['sentiment'] = s['compound_score_sentiment']\n",
    "df = df.drop(columns=['compound_score','compound_score_sentiment'])\n",
    "df.head()"
   ]
  },
  {
   "cell_type": "code",
   "execution_count": 13,
   "metadata": {},
   "outputs": [],
   "source": [
    "df.head(20)\n",
    "df.to_csv(\"sentiments.csv\")"
   ]
  },
  {
   "source": [
    "### Using K-Means Clustering on the Polarity attribute"
   ],
   "cell_type": "markdown",
   "metadata": {}
  },
  {
   "cell_type": "code",
   "execution_count": null,
   "metadata": {},
   "outputs": [],
   "source": []
  }
 ]
}